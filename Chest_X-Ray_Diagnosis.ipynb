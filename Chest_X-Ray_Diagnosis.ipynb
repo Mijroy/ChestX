{
  "cells": [
    {
      "cell_type": "markdown",
      "metadata": {
        "id": "J8rW1U6ri3HF"
      },
      "source": []
    },
    {
      "cell_type": "markdown",
      "metadata": {
        "id": "k8Saax69Iwl5"
      },
      "source": [
        "# Chest X-Ray Medical Diagnosis with Deep Learning"
      ]
    },
    {
      "cell_type": "code",
      "execution_count": 60,
      "metadata": {
        "colab": {
          "base_uri": "https://localhost:8080/",
          "height": 547
        },
        "id": "X1Fa4R0MIwmE",
        "outputId": "9480d0e5-6d88-4634-f193-d5bb49960cf3"
      },
      "outputs": [],
      "source": [
        "# !pip install q keras==2.4.3\n",
        "\n",
        "# %tensorflow_version 1.14.0\n"
      ]
    },
    {
      "cell_type": "code",
      "execution_count": 61,
      "metadata": {
        "colab": {
          "base_uri": "https://localhost:8080/"
        },
        "id": "fO0gVopLJDs-",
        "outputId": "0d79a0ad-eb61-4ce6-baeb-2310ffa3e221"
      },
      "outputs": [],
      "source": [
        "# from google.colab import drive\n",
        "# drive.mount('/content/drive')"
      ]
    },
    {
      "cell_type": "markdown",
      "metadata": {
        "id": "FZYK-0rin5x7"
      },
      "source": [
        "<img src=\"xray-header-image.png\" style=\"padding-top: 50px;width: 87%;left: 0px;margin-left: 0px;margin-right: 0px;\">\n",
        "\n",
        "\n",
        " We will explore medical image diagnosis by building a state-of-the-art chest X-ray classifier using Keras. \n",
        "In particular, we will:\n",
        "- Pre-process and prepare a real-world X-ray dataset\n",
        "- Use transfer learning to retrain a DenseNet model for X-ray image classification\n",
        "- Learn a technique to handle class imbalance\n",
        "- Measure diagnostic performance by computing the AUC (Area Under the Curve) for the ROC (Receiver Operating Characteristic) curve\n",
        "- Visualize model activity using GradCAMs\n",
        "\n",
        " We will discuss in details about the following topics: \n",
        "\n",
        "- Data preparation\n",
        "  - Visualizing data\n",
        "  - Preventing data leakage\n",
        "- Model Development\n",
        "  - Addressing class imbalance\n",
        "  - Leveraging pre-trained models using transfer learning\n",
        "- Evaluation\n",
        "  - AUC and ROC curves"
      ]
    },
    {
      "cell_type": "markdown",
      "metadata": {
        "id": "I4cKTzSVIwmw"
      },
      "source": [
        "## Outline\n",
        "Use these links to jump to specific sections of this assignment!\n",
        "\n",
        "- [1. Import Packages and Function](#1)\n",
        "- [2. Load the Datasets](#2)\n",
        "    - [2.1 Preventing Data Leakage](#2-1)\n",
        "        - [Exercise 1 - Checking Data Leakage](#Ex-1)\n",
        "    - [2.2 Preparing Images](#2-2)\n",
        "- [3. Model Development](#3)\n",
        "    - [3.1 Addressing Class Imbalance](#3-1)\n",
        "        - [Exercise 2 - Computing Class Frequencies](#Ex-2)\n",
        "        - [Exercise 3 - Weighted Loss](#Ex-3)\n",
        "    - [3.3 DenseNet121](#3-3)\n",
        "- [4. Training [optional]](#4)\n",
        "    - [4.1 Training on the Larger Dataset](#4-1)\n",
        "- [5. Prediction and Evaluation](#5)\n",
        "    - [5.1 ROC Curve and AUROC](#5-1)\n",
        "    - [5.2 Visualizing Learning with GradCAM](#5-2)"
      ]
    },
    {
      "cell_type": "markdown",
      "metadata": {
        "id": "XI8PBrk_2Z4V"
      },
      "source": [
        "<a name='1'></a>\n",
        "## 1. Import Packages and Functions¶\n",
        "\n",
        "We'll make use of the following packages:\n",
        "- `numpy` and `pandas` is what we'll use to manipulate our data\n",
        "- `matplotlib.pyplot` and `seaborn` will be used to produce plots for visualization\n",
        "- `util` will provide the locally defined utility functions that have been provided for this assignment\n",
        "\n",
        "We will also use several modules from the `keras` framework for building deep learning models.\n",
        "\n",
        "Run the next cell to import all the necessary packages."
      ]
    },
    {
      "cell_type": "code",
      "execution_count": 62,
      "metadata": {
        "id": "Je3yV0Wnn5x8",
        "scrolled": true
      },
      "outputs": [],
      "source": [
        "import numpy as np\n",
        "import pandas as pd\n",
        "import seaborn as sns\n",
        "import matplotlib.pyplot as plt\n",
        "\n",
        "from keras.preprocessing.image import ImageDataGenerator\n",
        "from keras.applications.densenet import DenseNet121\n",
        "from keras.layers import Dense, GlobalAveragePooling2D\n",
        "from keras.models import Model\n",
        "from keras import backend as K\n",
        "\n",
        "from keras.models import load_model\n",
        "\n",
        "import util"
      ]
    },
    {
      "cell_type": "markdown",
      "metadata": {
        "id": "6PMDCWQRn5yA"
      },
      "source": [
        "<a name='2'></a>\n",
        "## 2 Load the Datasets\n",
        "\n",
        " We will be using the [ChestX-ray8 dataset](https://arxiv.org/abs/1705.02315) which contains 108,948 frontal-view X-ray images of 32,717 unique patients. \n",
        "- Each image in the data set contains multiple text-mined labels identifying 14 different pathological conditions. \n",
        "- These in turn can be used by physicians to diagnose 8 different diseases. \n",
        "- We will use this data to develop a single model that will provide binary classification predictions for each of the 14 labeled pathologies. \n",
        "- In other words it will predict 'positive' or 'negative' for each of the pathologies.\n",
        " \n",
        "We can download the entire dataset for free [here](https://nihcc.app.box.com/v/ChestXray-NIHCC). \n",
        "\n",
        "- These can be accessed in the folder path stored in the `IMAGE_DIR` variable.\n",
        "\n",
        "The dataset includes a CSV file that provides the labels for each X-ray. \n",
        "\n",
        " \n",
        "\n",
        "This dataset has been annotated by consensus among four different radiologists for 5 of our 14 pathologies:\n",
        "- `Consolidation`\n",
        "- `Edema`\n",
        "- `Effusion`\n",
        "- `Cardiomegaly`\n",
        "- `Atelectasis`"
      ]
    },
    {
      "cell_type": "markdown",
      "metadata": {
        "id": "MLagXzQ5IwnS"
      },
      "source": []
    },
    {
      "cell_type": "markdown",
      "metadata": {
        "id": "ipAhU8aeIwnW"
      },
      "source": [
        "#### Read in the data\n",
        "Let's open these files using the [pandas](https://pandas.pydata.org/) library"
      ]
    },
    {
      "cell_type": "code",
      "execution_count": 63,
      "metadata": {},
      "outputs": [],
      "source": [
        "from sklearn.model_selection import train_test_split\n",
        "\n",
        "train_df = pd.read_csv(\"mimic_train.csv\")\n",
        "valid_df = pd.read_csv(\"mimic_valid.csv\")"
      ]
    },
    {
      "cell_type": "code",
      "execution_count": 64,
      "metadata": {
        "colab": {
          "base_uri": "https://localhost:8080/",
          "height": 263
        },
        "id": "5JRSHB7i0t_6",
        "outputId": "2b4eee5d-93b0-4402-8a76-0897a289dea8"
      },
      "outputs": [
        {
          "data": {
            "text/html": [
              "<div>\n",
              "<style scoped>\n",
              "    .dataframe tbody tr th:only-of-type {\n",
              "        vertical-align: middle;\n",
              "    }\n",
              "\n",
              "    .dataframe tbody tr th {\n",
              "        vertical-align: top;\n",
              "    }\n",
              "\n",
              "    .dataframe thead th {\n",
              "        text-align: right;\n",
              "    }\n",
              "</style>\n",
              "<table border=\"1\" class=\"dataframe\">\n",
              "  <thead>\n",
              "    <tr style=\"text-align: right;\">\n",
              "      <th></th>\n",
              "      <th>dicon_id</th>\n",
              "      <th>subject_id</th>\n",
              "      <th>study_id</th>\n",
              "      <th>Atelectasis</th>\n",
              "      <th>Cardiomegaly</th>\n",
              "      <th>Consolidation</th>\n",
              "      <th>Edema</th>\n",
              "      <th>Enlarged Cardiomediastinum</th>\n",
              "      <th>Fracture</th>\n",
              "      <th>Lung Lesion</th>\n",
              "      <th>Lung Opacity</th>\n",
              "      <th>No Finding</th>\n",
              "      <th>Pleural Effusion</th>\n",
              "      <th>Pleural Other</th>\n",
              "      <th>Pneumonia</th>\n",
              "      <th>Pneumothorax</th>\n",
              "      <th>Support Devices</th>\n",
              "      <th>Image</th>\n",
              "    </tr>\n",
              "  </thead>\n",
              "  <tbody>\n",
              "    <tr>\n",
              "      <th>0</th>\n",
              "      <td>f53a5e74-a2b4b709-429330c4-98b39c6c-288bdf85</td>\n",
              "      <td>13899090</td>\n",
              "      <td>52105870</td>\n",
              "      <td>0</td>\n",
              "      <td>0</td>\n",
              "      <td>0</td>\n",
              "      <td>0</td>\n",
              "      <td>0</td>\n",
              "      <td>0</td>\n",
              "      <td>0</td>\n",
              "      <td>0</td>\n",
              "      <td>1</td>\n",
              "      <td>0</td>\n",
              "      <td>0</td>\n",
              "      <td>0</td>\n",
              "      <td>0</td>\n",
              "      <td>0</td>\n",
              "      <td>p13/p13899090/s52105870/f53a5e74-a2b4b709-4293...</td>\n",
              "    </tr>\n",
              "    <tr>\n",
              "      <th>1</th>\n",
              "      <td>39418729-478127df-0904e843-bdf9031b-4686f2af</td>\n",
              "      <td>15730635</td>\n",
              "      <td>53215349</td>\n",
              "      <td>1</td>\n",
              "      <td>0</td>\n",
              "      <td>1</td>\n",
              "      <td>1</td>\n",
              "      <td>0</td>\n",
              "      <td>0</td>\n",
              "      <td>0</td>\n",
              "      <td>0</td>\n",
              "      <td>0</td>\n",
              "      <td>1</td>\n",
              "      <td>0</td>\n",
              "      <td>0</td>\n",
              "      <td>0</td>\n",
              "      <td>0</td>\n",
              "      <td>p15/p15730635/s53215349/39418729-478127df-0904...</td>\n",
              "    </tr>\n",
              "    <tr>\n",
              "      <th>2</th>\n",
              "      <td>b5043994-86f1551d-37377961-5cb9f2c5-66c217e5</td>\n",
              "      <td>16076346</td>\n",
              "      <td>51034024</td>\n",
              "      <td>0</td>\n",
              "      <td>0</td>\n",
              "      <td>0</td>\n",
              "      <td>0</td>\n",
              "      <td>0</td>\n",
              "      <td>1</td>\n",
              "      <td>0</td>\n",
              "      <td>0</td>\n",
              "      <td>0</td>\n",
              "      <td>0</td>\n",
              "      <td>0</td>\n",
              "      <td>0</td>\n",
              "      <td>0</td>\n",
              "      <td>0</td>\n",
              "      <td>p16/p16076346/s51034024/b5043994-86f1551d-3737...</td>\n",
              "    </tr>\n",
              "    <tr>\n",
              "      <th>3</th>\n",
              "      <td>2b9616ae-7d8f437a-828a4bd1-fbdec9be-1bde8473</td>\n",
              "      <td>17496927</td>\n",
              "      <td>53222773</td>\n",
              "      <td>0</td>\n",
              "      <td>0</td>\n",
              "      <td>0</td>\n",
              "      <td>0</td>\n",
              "      <td>0</td>\n",
              "      <td>0</td>\n",
              "      <td>0</td>\n",
              "      <td>1</td>\n",
              "      <td>0</td>\n",
              "      <td>0</td>\n",
              "      <td>0</td>\n",
              "      <td>0</td>\n",
              "      <td>0</td>\n",
              "      <td>1</td>\n",
              "      <td>p17/p17496927/s53222773/2b9616ae-7d8f437a-828a...</td>\n",
              "    </tr>\n",
              "    <tr>\n",
              "      <th>4</th>\n",
              "      <td>376e8b3e-9cdaa906-a113d31b-82fed6f0-7ff02e03</td>\n",
              "      <td>10232455</td>\n",
              "      <td>54814158</td>\n",
              "      <td>0</td>\n",
              "      <td>1</td>\n",
              "      <td>0</td>\n",
              "      <td>0</td>\n",
              "      <td>0</td>\n",
              "      <td>0</td>\n",
              "      <td>0</td>\n",
              "      <td>0</td>\n",
              "      <td>0</td>\n",
              "      <td>0</td>\n",
              "      <td>0</td>\n",
              "      <td>0</td>\n",
              "      <td>0</td>\n",
              "      <td>0</td>\n",
              "      <td>p10/p10232455/s54814158/376e8b3e-9cdaa906-a113...</td>\n",
              "    </tr>\n",
              "  </tbody>\n",
              "</table>\n",
              "</div>"
            ],
            "text/plain": [
              "                                       dicon_id  subject_id  study_id  \\\n",
              "0  f53a5e74-a2b4b709-429330c4-98b39c6c-288bdf85    13899090  52105870   \n",
              "1  39418729-478127df-0904e843-bdf9031b-4686f2af    15730635  53215349   \n",
              "2  b5043994-86f1551d-37377961-5cb9f2c5-66c217e5    16076346  51034024   \n",
              "3  2b9616ae-7d8f437a-828a4bd1-fbdec9be-1bde8473    17496927  53222773   \n",
              "4  376e8b3e-9cdaa906-a113d31b-82fed6f0-7ff02e03    10232455  54814158   \n",
              "\n",
              "   Atelectasis  Cardiomegaly  Consolidation  Edema  \\\n",
              "0            0             0              0      0   \n",
              "1            1             0              1      1   \n",
              "2            0             0              0      0   \n",
              "3            0             0              0      0   \n",
              "4            0             1              0      0   \n",
              "\n",
              "   Enlarged Cardiomediastinum  Fracture  Lung Lesion  Lung Opacity  \\\n",
              "0                           0         0            0             0   \n",
              "1                           0         0            0             0   \n",
              "2                           0         1            0             0   \n",
              "3                           0         0            0             1   \n",
              "4                           0         0            0             0   \n",
              "\n",
              "   No Finding  Pleural Effusion  Pleural Other  Pneumonia  Pneumothorax  \\\n",
              "0           1                 0              0          0             0   \n",
              "1           0                 1              0          0             0   \n",
              "2           0                 0              0          0             0   \n",
              "3           0                 0              0          0             0   \n",
              "4           0                 0              0          0             0   \n",
              "\n",
              "   Support Devices                                              Image  \n",
              "0                0  p13/p13899090/s52105870/f53a5e74-a2b4b709-4293...  \n",
              "1                0  p15/p15730635/s53215349/39418729-478127df-0904...  \n",
              "2                0  p16/p16076346/s51034024/b5043994-86f1551d-3737...  \n",
              "3                1  p17/p17496927/s53222773/2b9616ae-7d8f437a-828a...  \n",
              "4                0  p10/p10232455/s54814158/376e8b3e-9cdaa906-a113...  "
            ]
          },
          "execution_count": 64,
          "metadata": {},
          "output_type": "execute_result"
        }
      ],
      "source": [
        "\n",
        "test_df = pd.read_csv(\"mimic_test.csv\")\n",
        "\n",
        "train_df.head()"
      ]
    },
    {
      "cell_type": "code",
      "execution_count": 65,
      "metadata": {
        "id": "mrDoMlsun5yE"
      },
      "outputs": [],
      "source": [
        "labels =  ['Atelectasis', 'Cardiomegaly', 'Consolidation', 'Edema',\n",
        "             'Enlarged Cardiomediastinum', 'Fracture', 'Lung Lesion', 'Lung Opacity',\n",
        "             'No Finding', 'Pleural Other', 'Pleural Effusion',\n",
        "             'Pneumonia', 'Pneumothorax', 'Support Devices']"
      ]
    },
    {
      "cell_type": "markdown",
      "metadata": {
        "id": "iKwFwpHLn5yG"
      },
      "source": [
        "<a name='2-1'></a>\n",
        "### 2.1 Preventing Data Leakage\n",
        "It is worth noting that our dataset contains multiple images for each patient. This could be the case, for example, when a patient has taken multiple X-ray images at different times during their hospital visits. In our data splitting, we have ensured that the split is done on the patient level so that there is no data \"leakage\" between the train, validation, and test datasets."
      ]
    },
    {
      "cell_type": "markdown",
      "metadata": {
        "id": "SbYhEyTKIwn9"
      },
      "source": [
        "<a name='Ex-1'></a>\n",
        "### Task 1 - Checking Data Leakage\n",
        "In the cell below, write a function to check whether there is leakage between two datasets. We'll use this to make sure there are no patients in the test set that are also present in either the train or validation sets."
      ]
    },
    {
      "cell_type": "markdown",
      "metadata": {
        "id": "J0PsmyV3IwoA"
      },
      "source": []
    },
    {
      "cell_type": "code",
      "execution_count": 66,
      "metadata": {
        "id": "Jz6dwTSrUcKc"
      },
      "outputs": [],
      "source": [
        "def check_for_leakage(df1, df2, patient_col):\n",
        "    \"\"\"\n",
        "    Return True if there any patients are in both df1 and df2.\n",
        "\n",
        "    Args:\n",
        "        df1 (dataframe): dataframe describing first dataset\n",
        "        df2 (dataframe): dataframe describing second dataset\n",
        "        patient_col (str): string name of column with patient IDs\n",
        "    \n",
        "    Returns:\n",
        "        leakage (bool): True if there is leakage, otherwise False\n",
        "    \"\"\"\n",
        "\n",
        "    \n",
        "    df1_patients_unique = set(df1[patient_col].values)\n",
        "    df2_patients_unique = set(df2[patient_col].values)\n",
        "    \n",
        "    patients_in_both_groups = list(df1_patients_unique.intersection(df2_patients_unique))\n",
        "\n",
        "    # leakage contains true if there is patient overlap, otherwise false.\n",
        "    leakage = len( patients_in_both_groups)>0 # boolean (true if there is at least 1 patient in both groups)\n",
        "    \n",
        "\n",
        "    \n",
        "    return leakage"
      ]
    },
    {
      "cell_type": "code",
      "execution_count": 67,
      "metadata": {
        "colab": {
          "base_uri": "https://localhost:8080/"
        },
        "id": "Rh2p1krrV1g5",
        "outputId": "fe6a186a-0af8-4d30-e391-c958aca8f171"
      },
      "outputs": [
        {
          "name": "stdout",
          "output_type": "stream",
          "text": [
            "test case 1\n",
            "df1\n",
            "   patient_id\n",
            "0           0\n",
            "1           1\n",
            "2           2\n",
            "df2\n",
            "   patient_id\n",
            "0           2\n",
            "1           3\n",
            "2           4\n",
            "leakage output: True\n",
            "-------------------------------------\n",
            "test case 2\n",
            "df1:\n",
            "   patient_id\n",
            "0           0\n",
            "1           1\n",
            "2           2\n",
            "df2:\n",
            "   patient_id\n",
            "0           3\n",
            "1           4\n",
            "2           5\n",
            "leakage output: False\n"
          ]
        }
      ],
      "source": [
        "# test\n",
        "print(\"test case 1\")\n",
        "df1 = pd.DataFrame({'patient_id': [0, 1, 2]})\n",
        "df2 = pd.DataFrame({'patient_id': [2, 3, 4]})\n",
        "print(\"df1\")\n",
        "print(df1)\n",
        "print(\"df2\")\n",
        "print(df2)\n",
        "print(f\"leakage output: {check_for_leakage(df1, df2, 'patient_id')}\")\n",
        "print(\"-------------------------------------\")\n",
        "print(\"test case 2\")\n",
        "df1 = pd.DataFrame({'patient_id': [0, 1, 2]})\n",
        "df2 = pd.DataFrame({'patient_id': [3, 4, 5]})\n",
        "print(\"df1:\")\n",
        "print(df1)\n",
        "print(\"df2:\")\n",
        "print(df2)\n",
        "\n",
        "print(f\"leakage output: {check_for_leakage(df1, df2, 'patient_id')}\")"
      ]
    },
    {
      "cell_type": "markdown",
      "metadata": {
        "id": "a5XtZb_IIwoU"
      },
      "source": [
        "##### Expected output\n",
        "\n",
        "```Python\n",
        "test case 1\n",
        "df1\n",
        "   patient_id\n",
        "0           0\n",
        "1           1\n",
        "2           2\n",
        "df2\n",
        "   patient_id\n",
        "0           2\n",
        "1           3\n",
        "2           4\n",
        "leakage output: True\n",
        "-------------------------------------\n",
        "test case 2\n",
        "df1:\n",
        "   patient_id\n",
        "0           0\n",
        "1           1\n",
        "2           2\n",
        "df2:\n",
        "   patient_id\n",
        "0           3\n",
        "1           4\n",
        "2           5\n",
        "leakage output: False\n",
        "```"
      ]
    },
    {
      "cell_type": "markdown",
      "metadata": {
        "id": "FCWkiLudW_Il"
      },
      "source": [
        "Run the next cell to check if there are patients in both train and test or in both valid and test."
      ]
    },
    {
      "cell_type": "code",
      "execution_count": 68,
      "metadata": {
        "colab": {
          "base_uri": "https://localhost:8080/"
        },
        "id": "AMF3Wd3yW-RS",
        "outputId": "50473c46-4729-4b70-96eb-8a95b991a8e3"
      },
      "outputs": [
        {
          "name": "stdout",
          "output_type": "stream",
          "text": [
            "leakage between train and test: True\n",
            "leakage between valid and test: True\n"
          ]
        }
      ],
      "source": [
        "print(\"leakage between train and test: {}\".format(check_for_leakage(train_df, test_df, 'study_id')))\n",
        "print(\"leakage between valid and test: {}\".format(check_for_leakage(valid_df, test_df, 'study_id')))"
      ]
    },
    {
      "cell_type": "markdown",
      "metadata": {
        "id": "zRUvYHpYXhlQ"
      },
      "source": [
        "If we get `False` for both, then we're ready to start preparing the datasets for training. "
      ]
    },
    {
      "cell_type": "markdown",
      "metadata": {
        "id": "JBWZ5l4ln5yH"
      },
      "source": [
        "<a name='2-2'></a>\n",
        "### 2.2 Preparing Images"
      ]
    },
    {
      "cell_type": "markdown",
      "metadata": {
        "id": "SPjuZHPpn5yH"
      },
      "source": [
        "With our dataset splits ready, we can now proceed with setting up our model to consume them. \n",
        "- For this we will use the off-the-shelf [ImageDataGenerator](https://keras.io/preprocessing/image/) class from the Keras framework, which allows us to build a \"generator\" for images specified in a dataframe. \n",
        "- This class also provides support for basic data augmentation such as random horizontal flipping of images.\n",
        "- We also use the generator to transform the values in each batch so that their mean is $0$ and their standard deviation is 1. \n",
        "    - This will facilitate model training by standardizing the input distribution. \n",
        "- The generator also converts our single channel X-ray images (gray-scale) to a three-channel format by repeating the values in the image across all channels.\n",
        "    - We will want this because the pre-trained model that we'll use requires three-channel inputs.\n",
        "\n",
        "Since it is mainly a matter of reading and understanding Keras documentation, we have implemented the generator for you. There are a few things to note: \n",
        "1. We normalize the mean and standard deviation of the data\n",
        "3. We shuffle the input after each epoch.\n",
        "4. We set the image size to be 320px by 320px"
      ]
    },
    {
      "cell_type": "code",
      "execution_count": 69,
      "metadata": {
        "id": "nAgVGOAju8pX"
      },
      "outputs": [],
      "source": [
        "def get_train_generator(df, image_dir, x_col, y_cols, shuffle=True, batch_size=16, seed=1, target_w = 320, target_h = 320):\n",
        "  \n",
        "    print(\"getting train generator...\") \n",
        "    # normalize images\n",
        "    image_generator = ImageDataGenerator(\n",
        "        samplewise_center=True,\n",
        "        samplewise_std_normalization= True)\n",
        "    \n",
        "    # flow from directory with specified batch size\n",
        "    # and target image size\n",
        "    generator = image_generator.flow_from_dataframe(\n",
        "            dataframe=df,\n",
        "            directory=image_dir,\n",
        "            x_col=x_col,\n",
        "            y_col=y_cols,\n",
        "            class_mode=\"raw\",\n",
        "            batch_size=batch_size,\n",
        "            shuffle=shuffle,\n",
        "            seed=seed,\n",
        "            target_size=(target_w,target_h))\n",
        "    \n",
        "    return generator"
      ]
    },
    {
      "cell_type": "markdown",
      "metadata": {
        "id": "vpRXR-3_u7cl"
      },
      "source": [
        "#### Build a separate generator for valid and test sets\n",
        "\n",
        "Now we need to build a new generator for validation and testing data. \n",
        "\n",
        "** We use the same generator as for the training data**\n",
        "\n",
        "\n",
        "- It normalizes each image **per batch**, meaning that it uses batch statistics. \n",
        "- We should not do this with the test and validation data, since in a real life scenario we don't process incoming images a batch at a time (we process one image at a time). \n",
        "- Knowing the average per batch of test data would effectively give our model an advantage.  \n",
        "    - The model should not have any information about the test data.\n",
        "\n",
        "What we need to do is normalize incoming test data using the statistics **computed from the training set**. \n",
        "* We implement this in the function below. \n",
        "* There is one technical note. Ideally, we would want to compute our sample mean and standard deviation using the entire training set. \n",
        "* However, since this is extremely large, that would be very time consuming. \n",
        "* In the interest of time, we'll take a random sample of the dataset and calcualte the sample mean and sample standard deviation."
      ]
    },
    {
      "cell_type": "code",
      "execution_count": 72,
      "metadata": {
        "id": "UtWEAfAnrhMq"
      },
      "outputs": [],
      "source": [
        "def get_test_and_valid_generator(valid_df, test_df, train_df, image_dir, x_col, y_cols, sample_size=100, batch_size=16, seed=1, target_w = 320, target_h = 320):\n",
        "\n",
        "    print(\"getting train and valid generators...\")\n",
        "    # get generator to sample dataset\n",
        "    raw_train_generator = ImageDataGenerator().flow_from_dataframe(\n",
        "        dataframe=train_df, \n",
        "        directory=IMAGE_DIR, \n",
        "        x_col=\"Image\", \n",
        "        y_col=labels, \n",
        "        class_mode=\"raw\", \n",
        "        batch_size=sample_size, \n",
        "        shuffle=True, \n",
        "        target_size=(target_w, target_h))\n",
        "    \n",
        "    # get data sample\n",
        "    batch = raw_train_generator.next()\n",
        "    data_sample = batch[0]\n",
        "\n",
        "    # use sample to fit mean and std for test set generator\n",
        "    image_generator = ImageDataGenerator(\n",
        "        featurewise_center=True,\n",
        "        featurewise_std_normalization= True)\n",
        "    \n",
        "    # fit generator to sample from training data\n",
        "    image_generator.fit(data_sample)\n",
        "\n",
        "    # get test generator\n",
        "    test_generator = image_generator.flow_from_dataframe(\n",
        "            dataframe=valid_df,\n",
        "            directory=image_dir,\n",
        "            x_col=x_col,\n",
        "            y_col=y_cols,\n",
        "            class_mode=\"raw\",\n",
        "            batch_size=batch_size,\n",
        "            shuffle=False,\n",
        "            seed=seed,\n",
        "            target_size=(target_w,target_h))\n",
        "\n",
        "    valid_generator = image_generator.flow_from_dataframe(\n",
        "            dataframe=test_df,\n",
        "            directory=image_dir,\n",
        "            x_col=x_col,\n",
        "            y_col=y_cols,\n",
        "            class_mode=\"raw\",\n",
        "            batch_size=batch_size,\n",
        "            shuffle=False,\n",
        "            seed=seed,\n",
        "            target_size=(target_w,target_h))\n",
        "    return test_generator, valid_generator"
      ]
    },
    {
      "cell_type": "markdown",
      "metadata": {
        "id": "ga4RZN5On5yL"
      },
      "source": [
        "With our generator function ready, let's make one generator for our training data and one each of our test and  validation datasets."
      ]
    },
    {
      "cell_type": "code",
      "execution_count": 73,
      "metadata": {
        "colab": {
          "base_uri": "https://localhost:8080/"
        },
        "id": "rNE3HWRbn5yL",
        "outputId": "c6348139-f40f-439f-d823-baa6627dd2b8",
        "scrolled": true
      },
      "outputs": [
        {
          "name": "stdout",
          "output_type": "stream",
          "text": [
            "getting train generator...\n",
            "Found 105723 validated image filenames.\n",
            "getting train and valid generators...\n",
            "Found 105723 validated image filenames.\n",
            "Found 26431 validated image filenames.\n",
            "Found 1824 validated image filenames.\n"
          ]
        }
      ],
      "source": [
        "IMAGE_DIR = \"mimic_cxr/images\"\n",
        "train_generator = get_train_generator(train_df, IMAGE_DIR, \"Image\", labels)\n",
        "valid_generator, test_generator = get_test_and_valid_generator(valid_df, test_df, train_df, IMAGE_DIR, \"Image\", labels)"
      ]
    },
    {
      "cell_type": "code",
      "execution_count": 74,
      "metadata": {},
      "outputs": [
        {
          "data": {
            "text/plain": [
              "1824"
            ]
          },
          "execution_count": 74,
          "metadata": {},
          "output_type": "execute_result"
        }
      ],
      "source": [
        "len(test_generator.filenames)"
      ]
    },
    {
      "cell_type": "markdown",
      "metadata": {
        "id": "pYtXacDgn5yN"
      },
      "source": [
        "Let's check  what the generator gives our model during training and validation. We can do this by calling the `__get_item__(index)` function:"
      ]
    },
    {
      "cell_type": "code",
      "execution_count": 75,
      "metadata": {},
      "outputs": [
        {
          "name": "stdout",
          "output_type": "stream",
          "text": [
            "\n",
            "Test Generator Info:\n",
            "Batch size: 16\n",
            "Number of batches: 114\n",
            "Total samples: 1824\n"
          ]
        }
      ],
      "source": [
        "print(\"\\nTest Generator Info:\")\n",
        "print(f\"Batch size: {test_generator.batch_size}\")\n",
        "print(f\"Number of batches: {len(test_generator)}\")\n",
        "print(f\"Total samples: {len(test_generator) * test_generator.batch_size}\")"
      ]
    },
    {
      "cell_type": "code",
      "execution_count": 76,
      "metadata": {
        "colab": {
          "base_uri": "https://localhost:8080/",
          "height": 312
        },
        "id": "Jh77vpN-n5yO",
        "outputId": "f458006b-375c-45d4-ee90-8a529cf5774c"
      },
      "outputs": [
        {
          "name": "stderr",
          "output_type": "stream",
          "text": [
            "Clipping input data to the valid range for imshow with RGB data ([0..1] for floats or [0..255] for integers).\n"
          ]
        },
        {
          "data": {
            "image/png": "[encoded data removed]",
            "text/plain": [
              "<Figure size 432x288 with 1 Axes>"
            ]
          },
          "metadata": {
            "needs_background": "light"
          },
          "output_type": "display_data"
        }
      ],
      "source": [
        "x, y = train_generator.__getitem__(0)\n",
        "plt.imshow(x[0]);"
      ]
    },
    {
      "cell_type": "code",
      "execution_count": 77,
      "metadata": {},
      "outputs": [
        {
          "name": "stderr",
          "output_type": "stream",
          "text": [
            "Clipping input data to the valid range for imshow with RGB data ([0..1] for floats or [0..255] for integers).\n",
            "Clipping input data to the valid range for imshow with RGB data ([0..1] for floats or [0..255] for integers).\n"
          ]
        },
        {
          "name": "stdout",
          "output_type": "stream",
          "text": [
            "Batch filenames and study IDs:\n",
            "Image 0: p14/p14786549/s59546576/fd1a395b-3e8de1ee-eb4cb018-c05c0347-875d0edd.jpg -> Study ID: 59546576\n"
          ]
        },
        {
          "data": {
            "image/png": "[encoded data removed]",
            "text/plain": [
              "<Figure size 432x288 with 1 Axes>"
            ]
          },
          "metadata": {
            "needs_background": "light"
          },
          "output_type": "display_data"
        },
        {
          "data": {
            "image/png": "[encoded data removed]",
            "text/plain": [
              "<Figure size 720x360 with 1 Axes>"
            ]
          },
          "metadata": {
            "needs_background": "light"
          },
          "output_type": "display_data"
        },
        {
          "name": "stdout",
          "output_type": "stream",
          "text": [
            "Image 1: p14/p14866589/s54833144/dbf94652-7e6d26e3-1c222e5a-796eaa6e-553a66ec.jpg -> Study ID: 54833144\n",
            "Image 2: p13/p13474473/s56969897/11164f42-13c77949-b381a3a8-926d4bc1-484e137f.jpg -> Study ID: 56969897\n",
            "Image 3: p17/p17135687/s56078872/fdea417d-cf04bcf1-3d0d0dac-9531cf86-f6fa828e.jpg -> Study ID: 56078872\n",
            "Image 4: p10/p10614767/s53439117/ff57ef42-843bc4a2-0d9bfc71-5effef36-fd03f6a6.jpg -> Study ID: 53439117\n",
            "Image 5: p16/p16458160/s52002237/74c8f391-02ab9065-22d10cf6-e2ccaaf9-1a714acb.jpg -> Study ID: 52002237\n",
            "Image 6: p18/p18753961/s58735998/3a605820-25f69b7a-b39d5ebe-8bfe250e-9f0e1492.jpg -> Study ID: 58735998\n",
            "Image 7: p11/p11055512/s51743744/82a1c74c-6300c801-43131fcf-82ff9ea0-036f2ac2.jpg -> Study ID: 51743744\n",
            "Image 8: p12/p12683111/s58787340/c0a0608f-5eccaee0-1275d655-5cd9a3d4-2acad67a.jpg -> Study ID: 58787340\n",
            "Image 9: p19/p19377528/s55309837/f8fd0a09-41d28213-5ee98961-69316283-f33c02c9.jpg -> Study ID: 55309837\n",
            "Image 10: p13/p13875890/s59846277/8d9d72dc-8a9733f5-5a408a79-fb1c42cc-371045fc.jpg -> Study ID: 59846277\n",
            "Image 11: p17/p17776423/s50156812/aa4be7bc-f165f2dc-19e3c5cf-24a27131-7139bec5.jpg -> Study ID: 50156812\n",
            "Image 12: p10/p10787788/s51743402/f2b3998f-239fe5f6-437c6361-9b3b9213-223e5c6d.jpg -> Study ID: 51743402\n",
            "Image 13: p17/p17944918/s57348255/36963961-4977cc11-73b3ecaa-914b7225-f221ce73.jpg -> Study ID: 57348255\n",
            "Image 14: p16/p16243802/s59788442/e64215be-595646e3-46102ec6-cb7f69f5-7a101556.jpg -> Study ID: 59788442\n",
            "Image 15: p13/p13690690/s57517169/fb161bc1-a634d7da-501e9ef5-53ff40ef-4d2b6035.jpg -> Study ID: 57517169\n",
            "\n",
            "Batch indices:\n",
            "[ 0  1  2  3  4  5  6  7  8  9 10 11 12 13 14 15]\n",
            "\n",
            "Corresponding filenames:\n",
            "Index 0: p14/p14786549/s59546576/fd1a395b-3e8de1ee-eb4cb018-c05c0347-875d0edd.jpg\n",
            "Index 1: p14/p14866589/s54833144/dbf94652-7e6d26e3-1c222e5a-796eaa6e-553a66ec.jpg\n",
            "Index 2: p13/p13474473/s56969897/11164f42-13c77949-b381a3a8-926d4bc1-484e137f.jpg\n",
            "Index 3: p17/p17135687/s56078872/fdea417d-cf04bcf1-3d0d0dac-9531cf86-f6fa828e.jpg\n",
            "Index 4: p10/p10614767/s53439117/ff57ef42-843bc4a2-0d9bfc71-5effef36-fd03f6a6.jpg\n",
            "Index 5: p16/p16458160/s52002237/74c8f391-02ab9065-22d10cf6-e2ccaaf9-1a714acb.jpg\n",
            "Index 6: p18/p18753961/s58735998/3a605820-25f69b7a-b39d5ebe-8bfe250e-9f0e1492.jpg\n",
            "Index 7: p11/p11055512/s51743744/82a1c74c-6300c801-43131fcf-82ff9ea0-036f2ac2.jpg\n",
            "Index 8: p12/p12683111/s58787340/c0a0608f-5eccaee0-1275d655-5cd9a3d4-2acad67a.jpg\n",
            "Index 9: p19/p19377528/s55309837/f8fd0a09-41d28213-5ee98961-69316283-f33c02c9.jpg\n",
            "Index 10: p13/p13875890/s59846277/8d9d72dc-8a9733f5-5a408a79-fb1c42cc-371045fc.jpg\n",
            "Index 11: p17/p17776423/s50156812/aa4be7bc-f165f2dc-19e3c5cf-24a27131-7139bec5.jpg\n",
            "Index 12: p10/p10787788/s51743402/f2b3998f-239fe5f6-437c6361-9b3b9213-223e5c6d.jpg\n",
            "Index 13: p17/p17944918/s57348255/36963961-4977cc11-73b3ecaa-914b7225-f221ce73.jpg\n",
            "Index 14: p16/p16243802/s59788442/e64215be-595646e3-46102ec6-cb7f69f5-7a101556.jpg\n",
            "Index 15: p13/p13690690/s57517169/fb161bc1-a634d7da-501e9ef5-53ff40ef-4d2b6035.jpg\n"
          ]
        }
      ],
      "source": [
        "x, y = valid_generator.__getitem__(0)\n",
        "plt.imshow(x[0]);\n",
        "# Check filenames in the valid generator\n",
        "if hasattr(valid_generator, 'filenames'):\n",
        "    # Get the indices of the current batch\n",
        "    batch_idx = 0  # Your current batch index\n",
        "    start_idx = batch_idx * valid_generator.batch_size\n",
        "    end_idx = start_idx + valid_generator.batch_size\n",
        "    \n",
        "    # Get filenames for this batch\n",
        "    batch_filenames = valid_generator.filenames[start_idx:end_idx]\n",
        "    \n",
        "    # Display filenames and extract study_ids\n",
        "    print(\"Batch filenames and study IDs:\")\n",
        "    for i, filename in enumerate(batch_filenames):\n",
        "        # Extract study_id using regex\n",
        "        import re\n",
        "        study_id_match = re.search(r's(\\d+)', filename)\n",
        "        study_id = study_id_match.group(1) if study_id_match else \"Unknown\"\n",
        "        \n",
        "        print(f\"Image {i}: {filename} -> Study ID: {study_id}\")\n",
        "        \n",
        "        # Display the first image for verification\n",
        "        if i == 0:\n",
        "            plt.figure(figsize=(10, 5))\n",
        "            plt.imshow(x[i])\n",
        "            plt.title(f\"Image 0: {filename}\\nStudy ID: {study_id}\")\n",
        "            plt.axis('off')\n",
        "            plt.show()\n",
        "else:\n",
        "    print(\"valid generator does not have filenames attribute\")\n",
        "\n",
        "# Alternative approach - check index mapping if generator uses it\n",
        "if hasattr(valid_generator, 'index_array') and hasattr(valid_generator, 'filenames'):\n",
        "    batch_indices = valid_generator.index_array[0:valid_generator.batch_size]\n",
        "    print(\"\\nBatch indices:\")\n",
        "    print(batch_indices)\n",
        "    \n",
        "    print(\"\\nCorresponding filenames:\")\n",
        "    for idx in batch_indices:\n",
        "        if idx < len(valid_generator.filenames):\n",
        "            print(f\"Index {idx}: {valid_generator.filenames[idx]}\")"
      ]
    },
    {
      "cell_type": "markdown",
      "metadata": {
        "id": "9WBMpRxcDMgp"
      },
      "source": [
        "<a name='3'></a>\n",
        "## 3 Model Development\n",
        "\n",
        "Now we'll move on to model training and development. We have a few practical challenges to deal with before actually training a neural network, though. The first is class imbalance."
      ]
    },
    {
      "cell_type": "markdown",
      "metadata": {
        "id": "qHBSgvxfn5yR"
      },
      "source": [
        "<a name='3-1'></a>\n",
        "### 3.1 Addressing Class Imbalance\n",
        "One of the challenges with working with medical diagnostic datasets is the large class imbalance present in such datasets. Let's plot the frequency of each of the labels in our dataset:"
      ]
    },
    {
      "cell_type": "code",
      "execution_count": 78,
      "metadata": {
        "colab": {
          "base_uri": "https://localhost:8080/",
          "height": 365
        },
        "id": "-OvyPe5en5yR",
        "outputId": "ca3059f9-d40a-4492-932a-d0887c5c21e7"
      },
      "outputs": [
        {
          "data": {
            "image/png": "[encoded data removed]",
            "text/plain": [
              "<Figure size 432x288 with 1 Axes>"
            ]
          },
          "metadata": {
            "needs_background": "light"
          },
          "output_type": "display_data"
        }
      ],
      "source": [
        "plt.xticks(rotation=90)\n",
        "plt.bar(x=labels, height=np.mean(train_generator.labels, axis=0))\n",
        "plt.title(\"Frequency of Each Class\")\n",
        "plt.show()"
      ]
    },
    {
      "cell_type": "markdown",
      "metadata": {
        "id": "0mmuK23cIwpz"
      },
      "source": [
        "We can see from this plot that the prevalance of positive cases varies significantly across the different pathologies. (These trends mirror the ones in the full dataset as well.) \n",
        "* The `Hernia` pathology has the greatest imbalance with the proportion of positive training cases being about 0.2%. \n",
        "* But even the `Infiltration` pathology, which has the least amount of imbalance, has only 17.5% of the training cases labelled positive.\n",
        "\n",
        "Ideally, we would train our model using an evenly balanced dataset so that the positive and negative training cases would contribute equally to the loss. \n",
        "\n",
        "If we use a normal cross-entropy loss function with a highly unbalanced dataset, as we are seeing here, then the algorithm will be incentivized to prioritize the majority class (i.e negative in our case), since it contributes more to the loss. "
      ]
    },
    {
      "cell_type": "markdown",
      "metadata": {
        "id": "3nHRd9p9n5yU"
      },
      "source": [
        "#### Impact of class imbalance on loss function\n",
        "\n",
        "Let's take a closer look at this. Assume we would have used a normal cross-entropy loss for each pathology. We recall that the cross-entropy loss contribution from the $i^{th}$ training data case is:\n",
        "\n",
        "$$\\mathcal{L}_{cross-entropy}(x_i) = -(y_i \\log(f(x_i)) + (1-y_i) \\log(1-f(x_i))),$$\n",
        "\n",
        "where $x_i$ and $y_i$ are the input features and the label, and $f(x_i)$ is the output of the model, i.e. the probability that it is positive. \n",
        "\n",
        "Note that for any training case, either $y_i=0$ or else $(1-y_i)=0$, so only one of these terms contributes to the loss (the other term is multiplied by zero, and becomes zero). \n",
        "\n",
        "We can rewrite the overall average cross-entropy loss over the entire training set $\\mathcal{D}$ of size $N$ as follows: \n",
        "\n",
        "$$\\mathcal{L}_{cross-entropy}(\\mathcal{D}) = - \\frac{1}{N}\\big( \\sum_{\\text{positive examples}} \\log (f(x_i)) + \\sum_{\\text{negative examples}} \\log(1-f(x_i)) \\big).$$\n",
        "\n",
        "Using this formulation, we can see that if there is a large imbalance with very few positive training cases, for example, then the loss will be dominated by the negative class. Summing the contribution over all the training cases for each class (i.e. pathological condition), we see that the contribution of each class (i.e. positive or negative) is: \n",
        "\n",
        "$$freq_{p} = \\frac{\\text{number of positive examples}}{N} $$\n",
        "\n",
        "$$\\text{and}$$\n",
        "\n",
        "$$freq_{n} = \\frac{\\text{number of negative examples}}{N}.$$"
      ]
    },
    {
      "cell_type": "markdown",
      "metadata": {
        "id": "O9X8eCvBIwp-"
      },
      "source": [
        "<a name='Ex-2'></a>\n",
        "### Task 2 - Computing Class Frequencies\n",
        " Calculation of the frequences for each label in our dataset."
      ]
    },
    {
      "cell_type": "markdown",
      "metadata": {
        "id": "vKmjoxmYIwqB"
      },
      "source": []
    },
    {
      "cell_type": "code",
      "execution_count": 79,
      "metadata": {
        "id": "TpDGeY2cChYD"
      },
      "outputs": [],
      "source": [
        "def compute_class_freqs(labels):\n",
        "    \"\"\"\n",
        "    Compute positive and negative frequences for each class.\n",
        "\n",
        "    Args:\n",
        "        labels (np.array): matrix of labels, size (num_examples, num_classes)\n",
        "    Returns:\n",
        "        positive_frequencies (np.array): array of positive frequences for each\n",
        "                                         class, size (num_classes)\n",
        "        negative_frequencies (np.array): array of negative frequences for each\n",
        "                                         class, size (num_classes)\n",
        "    \"\"\"\n",
        "   \n",
        "    \n",
        "    # total number of patients (rows)\n",
        "    N = len(labels)\n",
        "    \n",
        "    positive_frequencies = np.sum(labels,axis=0)/N\n",
        "    negative_frequencies = 1-positive_frequencies\n",
        "\n",
        "    \n",
        "    return positive_frequencies, negative_frequencies"
      ]
    },
    {
      "cell_type": "code",
      "execution_count": 80,
      "metadata": {
        "colab": {
          "base_uri": "https://localhost:8080/"
        },
        "id": "BqidQvCaD_xi",
        "outputId": "0eb3c8ef-61de-47c5-da25-498f51de701b"
      },
      "outputs": [
        {
          "name": "stdout",
          "output_type": "stream",
          "text": [
            "labels:\n",
            "[[1 0 0]\n",
            " [0 1 1]\n",
            " [1 0 1]\n",
            " [1 1 1]\n",
            " [1 0 1]]\n",
            "pos freqs: [0.8 0.4 0.8]\n",
            "neg freqs: [0.2 0.6 0.2]\n"
          ]
        }
      ],
      "source": [
        "# Test\n",
        "labels_matrix = np.array(\n",
        "    [[1, 0, 0],\n",
        "     [0, 1, 1],\n",
        "     [1, 0, 1],\n",
        "     [1, 1, 1],\n",
        "     [1, 0, 1]]\n",
        ")\n",
        "print(\"labels:\")\n",
        "print(labels_matrix)\n",
        "\n",
        "test_pos_freqs, test_neg_freqs = compute_class_freqs(labels_matrix)\n",
        "\n",
        "print(f\"pos freqs: {test_pos_freqs}\")\n",
        "\n",
        "print(f\"neg freqs: {test_neg_freqs}\")"
      ]
    },
    {
      "cell_type": "markdown",
      "metadata": {
        "id": "A04TNMG_Iwqk"
      },
      "source": [
        "##### Expected output\n",
        "\n",
        "```Python\n",
        "labels:\n",
        "[[1 0 0]\n",
        " [0 1 1]\n",
        " [1 0 1]\n",
        " [1 1 1]\n",
        " [1 0 1]]\n",
        "pos freqs: [0.8 0.4 0.8]\n",
        "neg freqs: [0.2 0.6 0.2]\n",
        "```"
      ]
    },
    {
      "cell_type": "markdown",
      "metadata": {
        "id": "Iye-sQoOFG37"
      },
      "source": [
        "Now we'll compute frequencies for our training data."
      ]
    },
    {
      "cell_type": "code",
      "execution_count": 81,
      "metadata": {
        "colab": {
          "base_uri": "https://localhost:8080/"
        },
        "id": "LoxM5jQ0E30D",
        "outputId": "26049266-690f-4310-e4e9-655a65682dce"
      },
      "outputs": [
        {
          "data": {
            "text/plain": [
              "array([0.1148    , 0.06885919, 0.02221844, 0.08304721, 0.00903304,\n",
              "       0.01512443, 0.02594516, 0.17170341, 0.48200486, 0.00482393,\n",
              "       0.13312146, 0.06374204, 0.02413855, 0.10154839])"
            ]
          },
          "execution_count": 81,
          "metadata": {},
          "output_type": "execute_result"
        }
      ],
      "source": [
        "freq_pos, freq_neg = compute_class_freqs(train_generator.labels)\n",
        "freq_pos"
      ]
    },
    {
      "cell_type": "markdown",
      "metadata": {
        "id": "gsJIDPTZn5yW"
      },
      "source": [
        "Let's visualize these two contribution ratios next to each other for each of the pathologies:"
      ]
    },
    {
      "cell_type": "code",
      "execution_count": 82,
      "metadata": {
        "colab": {
          "base_uri": "https://localhost:8080/",
          "height": 363
        },
        "id": "IqnNCu4In5yW",
        "outputId": "f90db2c3-729b-4098-ec42-1dcc89952934",
        "scrolled": true
      },
      "outputs": [
        {
          "data": {
            "image/png": "[encoded data removed]",
            "text/plain": [
              "<Figure size 432x288 with 1 Axes>"
            ]
          },
          "metadata": {
            "needs_background": "light"
          },
          "output_type": "display_data"
        }
      ],
      "source": [
        "data = pd.DataFrame({\"Class\": labels, \"Label\": \"Positive\", \"Value\": freq_pos})\n",
        "data = data.append([{\"Class\": labels[l], \"Label\": \"Negative\", \"Value\": v} for l,v in enumerate(freq_neg)], ignore_index=True)\n",
        "plt.xticks(rotation=90)\n",
        "f = sns.barplot(x=\"Class\", y=\"Value\", hue=\"Label\" ,data=data)"
      ]
    },
    {
      "cell_type": "markdown",
      "metadata": {
        "id": "2uvttCM8n5yY"
      },
      "source": [
        "As we see in the above plot, the contributions of positive cases is significantly lower than that of the negative ones. However, we want the contributions to be equal. One way of doing this is by multiplying each example from each class by a class-specific weight factor, $w_{pos}$ and $w_{neg}$, so that the overall contribution of each class is the same. \n",
        "\n",
        "To have this, we want \n",
        "\n",
        "$$w_{pos} \\times freq_{p} = w_{neg} \\times freq_{n},$$\n",
        "\n",
        "which we can do simply by taking \n",
        "\n",
        "$$w_{pos} = freq_{neg}$$\n",
        "$$w_{neg} = freq_{pos}$$\n",
        "\n",
        "This way, we will be balancing the contribution of positive and negative labels."
      ]
    },
    {
      "cell_type": "code",
      "execution_count": 83,
      "metadata": {
        "id": "zs3_Rgwwn5yZ"
      },
      "outputs": [],
      "source": [
        "pos_weights = freq_neg\n",
        "neg_weights = freq_pos\n",
        "pos_contribution = freq_pos * pos_weights \n",
        "neg_contribution = freq_neg * neg_weights"
      ]
    },
    {
      "cell_type": "markdown",
      "metadata": {
        "id": "ygNZmdyun5ya"
      },
      "source": [
        "Let's verify this by graphing the two contributions next to each other again:"
      ]
    },
    {
      "cell_type": "code",
      "execution_count": 84,
      "metadata": {
        "colab": {
          "base_uri": "https://localhost:8080/",
          "height": 363
        },
        "id": "LPfSFrxjn5yb",
        "outputId": "bdee5498-aed4-4d63-db1e-69808af51e83",
        "scrolled": true
      },
      "outputs": [
        {
          "data": {
            "image/png": "[encoded data removed]",
            "text/plain": [
              "<Figure size 432x288 with 1 Axes>"
            ]
          },
          "metadata": {
            "needs_background": "light"
          },
          "output_type": "display_data"
        }
      ],
      "source": [
        "data = pd.DataFrame({\"Class\": labels, \"Label\": \"Positive\", \"Value\": pos_contribution})\n",
        "data = data.append([{\"Class\": labels[l], \"Label\": \"Negative\", \"Value\": v} \n",
        "                        for l,v in enumerate(neg_contribution)], ignore_index=True)\n",
        "plt.xticks(rotation=90)\n",
        "sns.barplot(x=\"Class\", y=\"Value\", hue=\"Label\" ,data=data);"
      ]
    },
    {
      "cell_type": "markdown",
      "metadata": {
        "id": "u9xgoEkpn5yc"
      },
      "source": [
        "As the above figure shows, by applying these weightings the positive and negative labels within each class would have the same aggregate contribution to the loss function. Now let's implement such a loss function. \n",
        "\n",
        "After computing the weights, our final weighted loss for each training case will be \n",
        "\n",
        "$$\\mathcal{L}_{cross-entropy}^{w}(x) = - (w_{p} y \\log(f(x)) + w_{n}(1-y) \\log( 1 - f(x) ) ).$$"
      ]
    },
    {
      "cell_type": "markdown",
      "metadata": {
        "id": "OMZFyig7Iwr-"
      },
      "source": [
        "<a name='Ex-3'></a>\n",
        "### Task 3 - Weighted Loss\n",
        "The `weighted_loss` function below returns a loss function that calculates the weighted loss for each batch. For the multi-class loss, we add up the average loss for each individual class. We also add a small value, $\\epsilon$, to the predicted values before taking their logs. This is simply to avoid a numerical error that would otherwise occur if the predicted value happens to be zero.\n",
        "\n",
        "\n"
      ]
    },
    {
      "cell_type": "code",
      "execution_count": 85,
      "metadata": {
        "id": "pPIBVAasn5yd"
      },
      "outputs": [],
      "source": [
        "\n",
        "def get_weighted_loss(pos_weights, neg_weights, epsilon=1e-7):\n",
        "    \"\"\"\n",
        "    Return weighted loss function given negative weights and positive weights.\n",
        "\n",
        "    Args:\n",
        "      pos_weights (np.array): array of positive weights for each class, size (num_classes)\n",
        "      neg_weights (np.array): array of negative weights for each class, size (num_classes)\n",
        "    \n",
        "    Returns:\n",
        "      weighted_loss (function): weighted loss function\n",
        "    \"\"\"\n",
        "    def weighted_loss(y_true, y_pred):\n",
        "        \"\"\"\n",
        "        Return weighted loss value. \n",
        "\n",
        "        Args:\n",
        "            y_true (Tensor): Tensor of true labels, size is (num_examples, num_classes)\n",
        "            y_pred (Tensor): Tensor of predicted labels, size is (num_examples, num_classes)\n",
        "            -1 * np.sum(w_p[0] * \n",
        "                y_true[:, 0] * \n",
        "                np.log(y_pred[:, 0])\n",
        "              )\n",
        "        Returns:\n",
        "            loss (Float): overall scalar loss summed across all classes\n",
        "        \"\"\"\n",
        "        # initialize loss to zero\n",
        "        loss = 0.0\n",
        "        y_true = K.cast(y_true, dtype='float32')\n",
        "        y_pred = K.cast(y_pred, dtype='float32')\n",
        "\n",
        "        for i in range(len(pos_weights)):\n",
        "            # for each class, add average weighted loss for that class \n",
        "            loss += -1 * K.mean(pos_weights[i]*y_true[:,i]*K.log(y_pred[:,i]+epsilon)) + -1 * K.mean(neg_weights[i]*(1-y_true[:,i])*K.log(1-y_pred[:,i]+epsilon))  #complete this line\n",
        "        return loss\n",
        "    \n",
        "    \n",
        "    return weighted_loss"
      ]
    },
    {
      "cell_type": "markdown",
      "metadata": {
        "id": "PR08OSapIwsI"
      },
      "source": [
        "Now let's test our function with some simple cases. "
      ]
    },
    {
      "cell_type": "code",
      "execution_count": 86,
      "metadata": {
        "colab": {
          "base_uri": "https://localhost:8080/"
        },
        "id": "CFjYda3Wulbm",
        "outputId": "4841c87c-237e-49e7-aaed-12ad663f2075"
      },
      "outputs": [
        {
          "name": "stdout",
          "output_type": "stream",
          "text": [
            "Test example:\n",
            "\n",
            "y_true:\n",
            "\n",
            "[[1. 1. 1.]\n",
            " [1. 1. 0.]\n",
            " [0. 1. 0.]\n",
            " [1. 0. 1.]]\n",
            "\n",
            "w_p:\n",
            "\n",
            "[0.25 0.25 0.5 ]\n",
            "\n",
            "w_n:\n",
            "\n",
            "[0.75 0.75 0.5 ]\n",
            "\n",
            "y_pred_1:\n",
            "\n",
            "[[0.7 0.7 0.7]\n",
            " [0.7 0.7 0.7]\n",
            " [0.7 0.7 0.7]\n",
            " [0.7 0.7 0.7]]\n",
            "\n",
            "y_pred_2:\n",
            "\n",
            "[[0.3 0.3 0.3]\n",
            " [0.3 0.3 0.3]\n",
            " [0.3 0.3 0.3]\n",
            " [0.3 0.3 0.3]]\n",
            "\n",
            "If we weighted them correctly, we expect the two losses to be the same.\n",
            "\n",
            "L(y_pred_1)= -0.4956, L(y_pred_2)= -0.4956\n",
            "Difference is L1 - L2 = 0.0000\n"
          ]
        }
      ],
      "source": [
        "# Test\n",
        "sess = K.get_session()\n",
        "with sess.as_default() as sess:\n",
        "    print(\"Test example:\\n\")\n",
        "    y_true = K.constant(np.array(\n",
        "        [[1, 1, 1],\n",
        "         [1, 1, 0],\n",
        "         [0, 1, 0],\n",
        "         [1, 0, 1]]\n",
        "    ))\n",
        "    print(\"y_true:\\n\")\n",
        "    print(y_true.eval())\n",
        "\n",
        "    w_p = np.array([0.25, 0.25, 0.5])\n",
        "    w_n = np.array([0.75, 0.75, 0.5])\n",
        "    print(\"\\nw_p:\\n\")\n",
        "    print(w_p)\n",
        "\n",
        "    print(\"\\nw_n:\\n\")\n",
        "    print(w_n)\n",
        "\n",
        "    y_pred_1 = K.constant(0.7*np.ones(y_true.shape))\n",
        "    print(\"\\ny_pred_1:\\n\")\n",
        "    print(y_pred_1.eval())\n",
        "\n",
        "    y_pred_2 = K.constant(0.3*np.ones(y_true.shape))\n",
        "    print(\"\\ny_pred_2:\\n\")\n",
        "    print(y_pred_2.eval())\n",
        "\n",
        "    # test with a large epsilon in order to catch errors\n",
        "    L = get_weighted_loss(w_p, w_n, epsilon=1)\n",
        "\n",
        "    print(\"\\nIf we weighted them correctly, we expect the two losses to be the same.\")\n",
        "    L1 = L(y_true, y_pred_1).eval()\n",
        "    L2 = L(y_true, y_pred_2).eval()\n",
        "    print(f\"\\nL(y_pred_1)= {L1:.4f}, L(y_pred_2)= {L2:.4f}\")\n",
        "    print(f\"Difference is L1 - L2 = {L1 - L2:.4f}\")"
      ]
    },
    {
      "cell_type": "markdown",
      "metadata": {
        "id": "cljhP3ATIwsR"
      },
      "source": [
        "#### Additional check\n",
        "If we implemented the function correctly, then if the epsilon for the `get_weighted_loss` is set to `1`, the weighted losses will be as follows:\n",
        "```Python\n",
        "L(y_pred_1)= -0.4956, L(y_pred_2)= -0.4956\n",
        "```\n",
        "If we are missing something in your implementation, we will see a different set of losses for L1 and L2 (even though L1 and L2 will be the same)."
      ]
    },
    {
      "cell_type": "markdown",
      "metadata": {
        "id": "yDZQMmlgn5yh"
      },
      "source": [
        "<a name='3-3'></a>\n",
        "### 3.3 DenseNet121\n",
        "\n",
        "Next, we will use a pre-trained [DenseNet121](https://www.kaggle.com/pytorch/densenet121) model which we can load directly from Keras and then add two layers on top of it:\n",
        "1. A `GlobalAveragePooling2D` layer to get the average of the last convolution layers from DenseNet121.\n",
        "2. A `Dense` layer with `sigmoid` activation to get the prediction logits for each of our classes.\n",
        "\n",
        "We can set our custom loss function for the model by specifying the `loss` parameter in the `compile()` function."
      ]
    },
    {
      "cell_type": "code",
      "execution_count": 87,
      "metadata": {
        "colab": {
          "base_uri": "https://localhost:8080/"
        },
        "id": "gZlxoCTgn5yi",
        "outputId": "ce5704b1-df22-44d4-a0c2-4412abcf827e",
        "scrolled": true
      },
      "outputs": [],
      "source": [
        "from keras.optimizers import SGD\n",
        "from keras.metrics import *\n",
        "METRICS = [\n",
        "      TruePositives(name='tp'),\n",
        "      FalsePositives(name='fp'),\n",
        "      TrueNegatives(name='tn'),\n",
        "      FalseNegatives(name='fn'), \n",
        "      BinaryAccuracy(name='accuracy'),\n",
        "      Precision(name='precision'),\n",
        "      Recall(name='recall'),\n",
        "      AUC(name='auc'),\n",
        "]      \n",
        "\n",
        "# create the base pre-trained model\n",
        "base_model = DenseNet121(weights=None, include_top=False)\n",
        "\n",
        "# Load weights manually\n",
        "base_model.load_weights('densenet.hdf5')\n",
        "\n",
        "\n",
        "x =  base_model.output\n",
        "\n",
        "# add a global spatial average pooling layer\n",
        "x = GlobalAveragePooling2D()(x)\n",
        "\n",
        "\n",
        "# and a logistic layer\n",
        "predictions = Dense(len(labels), activation=\"sigmoid\")(x)\n",
        "\n",
        "optimizer = SGD(learning_rate=0.001,momentum=0.9,nesterov=False)\n",
        "\n",
        "model = Model(inputs=base_model.input, outputs=predictions)\n",
        "model.compile(optimizer=optimizer, loss=get_weighted_loss(pos_weights, neg_weights),metrics=METRICS)\n",
        "  \n",
        "\n"
      ]
    },
    {
      "cell_type": "markdown",
      "metadata": {
        "id": "BcwhQdOAn5ym"
      },
      "source": [
        "<a name='4'></a>\n",
        "## 4 Training \n",
        "\n",
        "With our model ready for training, we will use the `model.fit()` function in Keras to train our model. \n",
        "- We are training on a small subset of the dataset (~1%).  \n",
        "- So what we care about at this point is to make sure that the loss on the training set is decreasing.\n",
        "\n",
        "Since training can take a considerable time, for pedagogical purposes we have chosen not to train the model here but rather to load a set of pre-trained weights in the next section. However, we can use the code shown below to practice training the model locally on our machine or in Colab.\n",
        "\n",
        "\n",
        "\n",
        "Python Code for training the model:\n",
        "\n",
        "```python\n",
        "history = model.fit_generator(train_generator, \n",
        "                              validation_data=valid_generator,\n",
        "                              steps_per_epoch=100, \n",
        "                              validation_steps=25, \n",
        "                              epochs = 3)\n",
        "\n",
        "plt.plot(history.history['loss'])\n",
        "plt.ylabel(\"loss\")\n",
        "plt.xlabel(\"epoch\")\n",
        "plt.title(\"Training Loss Curve\")\n",
        "plt.show()\n",
        "```"
      ]
    },
    {
      "cell_type": "code",
      "execution_count": 88,
      "metadata": {
        "colab": {
          "base_uri": "https://localhost:8080/"
        },
        "id": "_TUGyeQOGmEo",
        "outputId": "403355a4-8d04-4e88-f9c2-3c963e0668db"
      },
      "outputs": [],
      "source": [
        "# !pip install pyyaml h5py\n",
        "import os\n",
        "checkpoint_path = \"training_1/cp.ckpt\"\n",
        "checkpoint_dir = os.path.dirname(checkpoint_path)\n",
        "\n",
        "# Create a callback that saves the model's weights\n",
        "cp_callback = tf.keras.callbacks.ModelCheckpoint(filepath=checkpoint_path,\n",
        "                                                 save_weights_only=True,\n",
        "                                                 verbose=1)\n"
      ]
    },
    {
      "cell_type": "code",
      "execution_count": 89,
      "metadata": {
        "colab": {
          "base_uri": "https://localhost:8080/",
          "height": 1000
        },
        "id": "uEj0ajMzPJjr",
        "outputId": "6b2a0e56-c680-44b7-81e1-b200125cb52c"
      },
      "outputs": [
        {
          "name": "stdout",
          "output_type": "stream",
          "text": [
            "Epoch 1/100\n",
            "100/100 [==============================] - 1730s 17s/step - loss: 1.3251 - tp: 1285.0000 - fp: 9346.0000 - tn: 10960.0000 - fn: 809.0000 - accuracy: 0.5467 - precision: 0.1209 - recall: 0.6137 - auc: 0.6107 - val_loss: 1.6558 - val_tp: 232.0000 - val_fp: 1109.0000 - val_tn: 3964.0000 - val_fn: 295.0000 - val_accuracy: 0.7493 - val_precision: 0.1730 - val_recall: 0.4402 - val_auc: 0.6621\n",
            "Epoch 2/100\n",
            "100/100 [==============================] - 1511s 15s/step - loss: 1.2216 - tp: 1378.0000 - fp: 7902.0000 - tn: 12432.0000 - fn: 688.0000 - accuracy: 0.6165 - precision: 0.1485 - recall: 0.6670 - auc: 0.6986 - val_loss: 1.2506 - val_tp: 309.0000 - val_fp: 1186.0000 - val_tn: 3894.0000 - val_fn: 211.0000 - val_accuracy: 0.7505 - val_precision: 0.2067 - val_recall: 0.5942 - val_auc: 0.7558\n",
            "Epoch 3/100\n",
            "100/100 [==============================] - 1482s 15s/step - loss: 1.1932 - tp: 1492.0000 - fp: 7555.0000 - tn: 12708.0000 - fn: 645.0000 - accuracy: 0.6339 - precision: 0.1649 - recall: 0.6982 - auc: 0.7316 - val_loss: 1.1851 - val_tp: 384.0000 - val_fp: 1636.0000 - val_tn: 3412.0000 - val_fn: 168.0000 - val_accuracy: 0.6779 - val_precision: 0.1901 - val_recall: 0.6957 - val_auc: 0.7670\n",
            "Epoch 4/100\n",
            "100/100 [==============================] - 1497s 15s/step - loss: 1.1690 - tp: 1552.0000 - fp: 8279.0000 - tn: 11992.0000 - fn: 577.0000 - accuracy: 0.6046 - precision: 0.1579 - recall: 0.7290 - auc: 0.7315 - val_loss: 1.0918 - val_tp: 331.0000 - val_fp: 2057.0000 - val_tn: 3019.0000 - val_fn: 193.0000 - val_accuracy: 0.5982 - val_precision: 0.1386 - val_recall: 0.6317 - val_auc: 0.6836\n",
            "Epoch 5/100\n",
            "100/100 [==============================] - 1305s 13s/step - loss: 1.1604 - tp: 1544.0000 - fp: 7991.0000 - tn: 12292.0000 - fn: 573.0000 - accuracy: 0.6177 - precision: 0.1619 - recall: 0.7293 - auc: 0.7428 - val_loss: 0.9182 - val_tp: 375.0000 - val_fp: 1783.0000 - val_tn: 3283.0000 - val_fn: 159.0000 - val_accuracy: 0.6532 - val_precision: 0.1738 - val_recall: 0.7022 - val_auc: 0.7639\n",
            "Epoch 6/100\n",
            "100/100 [==============================] - 1234s 12s/step - loss: 1.1479 - tp: 1489.0000 - fp: 7824.0000 - tn: 12485.0000 - fn: 602.0000 - accuracy: 0.6238 - precision: 0.1599 - recall: 0.7121 - auc: 0.7409 - val_loss: 1.0812 - val_tp: 385.0000 - val_fp: 1806.0000 - val_tn: 3281.0000 - val_fn: 128.0000 - val_accuracy: 0.6546 - val_precision: 0.1757 - val_recall: 0.7505 - val_auc: 0.7924\n",
            "Epoch 7/100\n",
            "100/100 [==============================] - 1480s 15s/step - loss: 1.1260 - tp: 1527.0000 - fp: 7441.0000 - tn: 12862.0000 - fn: 570.0000 - accuracy: 0.6424 - precision: 0.1703 - recall: 0.7282 - auc: 0.7588 - val_loss: 1.5259 - val_tp: 398.0000 - val_fp: 1707.0000 - val_tn: 3367.0000 - val_fn: 128.0000 - val_accuracy: 0.6723 - val_precision: 0.1891 - val_recall: 0.7567 - val_auc: 0.7793\n",
            "Epoch 8/100\n",
            "100/100 [==============================] - 1490s 15s/step - loss: 1.1270 - tp: 1640.0000 - fp: 7114.0000 - tn: 13098.0000 - fn: 548.0000 - accuracy: 0.6579 - precision: 0.1873 - recall: 0.7495 - auc: 0.7789 - val_loss: 1.1181 - val_tp: 394.0000 - val_fp: 1250.0000 - val_tn: 3800.0000 - val_fn: 156.0000 - val_accuracy: 0.7489 - val_precision: 0.2397 - val_recall: 0.7164 - val_auc: 0.8112\n",
            "Epoch 9/100\n",
            "100/100 [==============================] - 1477s 15s/step - loss: 1.1541 - tp: 1572.0000 - fp: 8033.0000 - tn: 12230.0000 - fn: 565.0000 - accuracy: 0.6162 - precision: 0.1637 - recall: 0.7356 - auc: 0.7474 - val_loss: 1.1350 - val_tp: 404.0000 - val_fp: 1931.0000 - val_tn: 3136.0000 - val_fn: 129.0000 - val_accuracy: 0.6321 - val_precision: 0.1730 - val_recall: 0.7580 - val_auc: 0.7618\n",
            "Epoch 10/100\n",
            "100/100 [==============================] - 1493s 15s/step - loss: 1.1314 - tp: 1578.0000 - fp: 6932.0000 - tn: 13330.0000 - fn: 560.0000 - accuracy: 0.6655 - precision: 0.1854 - recall: 0.7381 - auc: 0.7745 - val_loss: 1.1228 - val_tp: 412.0000 - val_fp: 1560.0000 - val_tn: 3509.0000 - val_fn: 119.0000 - val_accuracy: 0.7002 - val_precision: 0.2089 - val_recall: 0.7759 - val_auc: 0.8156\n",
            "Epoch 11/100\n",
            "100/100 [==============================] - 1513s 15s/step - loss: 1.1219 - tp: 1588.0000 - fp: 7970.0000 - tn: 12295.0000 - fn: 547.0000 - accuracy: 0.6198 - precision: 0.1661 - recall: 0.7438 - auc: 0.7564 - val_loss: 0.9327 - val_tp: 397.0000 - val_fp: 1910.0000 - val_tn: 3167.0000 - val_fn: 126.0000 - val_accuracy: 0.6364 - val_precision: 0.1721 - val_recall: 0.7591 - val_auc: 0.7779\n",
            "Epoch 12/100\n",
            "100/100 [==============================] - 1569s 16s/step - loss: 1.1395 - tp: 1592.0000 - fp: 7965.0000 - tn: 12264.0000 - fn: 579.0000 - accuracy: 0.6186 - precision: 0.1666 - recall: 0.7333 - auc: 0.7502 - val_loss: 1.2439 - val_tp: 423.0000 - val_fp: 2164.0000 - val_tn: 2920.0000 - val_fn: 93.0000 - val_accuracy: 0.5970 - val_precision: 0.1635 - val_recall: 0.8198 - val_auc: 0.7812\n",
            "Epoch 13/100\n",
            "100/100 [==============================] - 1504s 15s/step - loss: 1.0710 - tp: 1517.0000 - fp: 7442.0000 - tn: 12907.0000 - fn: 534.0000 - accuracy: 0.6439 - precision: 0.1693 - recall: 0.7396 - auc: 0.7721 - val_loss: 1.0863 - val_tp: 404.0000 - val_fp: 1729.0000 - val_tn: 3350.0000 - val_fn: 117.0000 - val_accuracy: 0.6704 - val_precision: 0.1894 - val_recall: 0.7754 - val_auc: 0.8024\n",
            "Epoch 14/100\n",
            "100/100 [==============================] - 1514s 15s/step - loss: 1.0614 - tp: 1514.0000 - fp: 6706.0000 - tn: 13636.0000 - fn: 544.0000 - accuracy: 0.6763 - precision: 0.1842 - recall: 0.7357 - auc: 0.7877 - val_loss: 1.1361 - val_tp: 352.0000 - val_fp: 1472.0000 - val_tn: 3628.0000 - val_fn: 148.0000 - val_accuracy: 0.7107 - val_precision: 0.1930 - val_recall: 0.7040 - val_auc: 0.8003\n",
            "Epoch 15/100\n",
            "100/100 [==============================] - 1400s 14s/step - loss: 1.0971 - tp: 1517.0000 - fp: 6950.0000 - tn: 13379.0000 - fn: 554.0000 - accuracy: 0.6650 - precision: 0.1792 - recall: 0.7325 - auc: 0.7768 - val_loss: 1.1610 - val_tp: 396.0000 - val_fp: 1532.0000 - val_tn: 3534.0000 - val_fn: 138.0000 - val_accuracy: 0.7018 - val_precision: 0.2054 - val_recall: 0.7416 - val_auc: 0.8108\n",
            "Epoch 16/100\n",
            "100/100 [==============================] - 1437s 14s/step - loss: 1.0943 - tp: 1616.0000 - fp: 7411.0000 - tn: 12840.0000 - fn: 533.0000 - accuracy: 0.6454 - precision: 0.1790 - recall: 0.7520 - auc: 0.7786 - val_loss: 1.7666 - val_tp: 353.0000 - val_fp: 1536.0000 - val_tn: 3570.0000 - val_fn: 141.0000 - val_accuracy: 0.7005 - val_precision: 0.1869 - val_recall: 0.7146 - val_auc: 0.7912\n",
            "Epoch 17/100\n",
            "100/100 [==============================] - 1491s 15s/step - loss: 1.0741 - tp: 1559.0000 - fp: 6537.0000 - tn: 13788.0000 - fn: 516.0000 - accuracy: 0.6851 - precision: 0.1926 - recall: 0.7513 - auc: 0.7888 - val_loss: 0.8718 - val_tp: 409.0000 - val_fp: 1352.0000 - val_tn: 3720.0000 - val_fn: 119.0000 - val_accuracy: 0.7373 - val_precision: 0.2323 - val_recall: 0.7746 - val_auc: 0.8330\n",
            "Epoch 18/100\n",
            "100/100 [==============================] - 5405s 54s/step - loss: 1.1087 - tp: 1550.0000 - fp: 6743.0000 - tn: 13546.0000 - fn: 561.0000 - accuracy: 0.6739 - precision: 0.1869 - recall: 0.7342 - auc: 0.7726 - val_loss: 0.9617 - val_tp: 379.0000 - val_fp: 1455.0000 - val_tn: 3625.0000 - val_fn: 141.0000 - val_accuracy: 0.7150 - val_precision: 0.2067 - val_recall: 0.7288 - val_auc: 0.8048\n",
            "Epoch 19/100\n",
            "100/100 [==============================] - 1429s 14s/step - loss: 1.0791 - tp: 1509.0000 - fp: 6519.0000 - tn: 13822.0000 - fn: 550.0000 - accuracy: 0.6844 - precision: 0.1880 - recall: 0.7329 - auc: 0.7838 - val_loss: 1.1931 - val_tp: 419.0000 - val_fp: 1950.0000 - val_tn: 3094.0000 - val_fn: 137.0000 - val_accuracy: 0.6273 - val_precision: 0.1769 - val_recall: 0.7536 - val_auc: 0.7660\n",
            "Epoch 20/100\n",
            "100/100 [==============================] - 1430s 14s/step - loss: 1.0854 - tp: 1613.0000 - fp: 6185.0000 - tn: 14064.0000 - fn: 538.0000 - accuracy: 0.6999 - precision: 0.2068 - recall: 0.7499 - auc: 0.8015 - val_loss: 1.0282 - val_tp: 398.0000 - val_fp: 1523.0000 - val_tn: 3561.0000 - val_fn: 118.0000 - val_accuracy: 0.7070 - val_precision: 0.2072 - val_recall: 0.7713 - val_auc: 0.8171\n",
            "Epoch 21/100\n",
            "100/100 [==============================] - 1431s 14s/step - loss: 1.1025 - tp: 1584.0000 - fp: 6423.0000 - tn: 13835.0000 - fn: 558.0000 - accuracy: 0.6883 - precision: 0.1978 - recall: 0.7395 - auc: 0.7915 - val_loss: 1.0725 - val_tp: 404.0000 - val_fp: 1826.0000 - val_tn: 3239.0000 - val_fn: 131.0000 - val_accuracy: 0.6505 - val_precision: 0.1812 - val_recall: 0.7551 - val_auc: 0.7732\n",
            "Epoch 22/100\n",
            "100/100 [==============================] - 1437s 14s/step - loss: 1.0690 - tp: 1641.0000 - fp: 6808.0000 - tn: 13457.0000 - fn: 494.0000 - accuracy: 0.6740 - precision: 0.1942 - recall: 0.7686 - auc: 0.7972 - val_loss: 0.9347 - val_tp: 402.0000 - val_fp: 1319.0000 - val_tn: 3764.0000 - val_fn: 115.0000 - val_accuracy: 0.7439 - val_precision: 0.2336 - val_recall: 0.7776 - val_auc: 0.8440\n",
            "Epoch 23/100\n",
            "100/100 [==============================] - 1477s 15s/step - loss: 1.0579 - tp: 1581.0000 - fp: 6260.0000 - tn: 14024.0000 - fn: 535.0000 - accuracy: 0.6967 - precision: 0.2016 - recall: 0.7472 - auc: 0.8063 - val_loss: 1.0811 - val_tp: 421.0000 - val_fp: 1787.0000 - val_tn: 3259.0000 - val_fn: 133.0000 - val_accuracy: 0.6571 - val_precision: 0.1907 - val_recall: 0.7599 - val_auc: 0.7764\n",
            "Epoch 24/100\n",
            "100/100 [==============================] - 1490s 15s/step - loss: 1.0826 - tp: 1573.0000 - fp: 6740.0000 - tn: 13556.0000 - fn: 531.0000 - accuracy: 0.6754 - precision: 0.1892 - recall: 0.7476 - auc: 0.7856 - val_loss: 1.0788 - val_tp: 429.0000 - val_fp: 1644.0000 - val_tn: 3424.0000 - val_fn: 103.0000 - val_accuracy: 0.6880 - val_precision: 0.2069 - val_recall: 0.8064 - val_auc: 0.8232\n",
            "Epoch 25/100\n",
            "100/100 [==============================] - 1480s 15s/step - loss: 1.0844 - tp: 1565.0000 - fp: 6816.0000 - tn: 13488.0000 - fn: 531.0000 - accuracy: 0.6720 - precision: 0.1867 - recall: 0.7467 - auc: 0.7851 - val_loss: 1.3191 - val_tp: 391.0000 - val_fp: 1601.0000 - val_tn: 3488.0000 - val_fn: 120.0000 - val_accuracy: 0.6927 - val_precision: 0.1963 - val_recall: 0.7652 - val_auc: 0.8087\n",
            "Epoch 26/100\n",
            "100/100 [==============================] - 1467s 15s/step - loss: 1.0456 - tp: 1555.0000 - fp: 6296.0000 - tn: 14035.0000 - fn: 514.0000 - accuracy: 0.6960 - precision: 0.1981 - recall: 0.7516 - auc: 0.8012 - val_loss: 0.8920 - val_tp: 375.0000 - val_fp: 1797.0000 - val_tn: 3272.0000 - val_fn: 156.0000 - val_accuracy: 0.6513 - val_precision: 0.1727 - val_recall: 0.7062 - val_auc: 0.7468\n",
            "Epoch 27/100\n",
            "100/100 [==============================] - 1463s 15s/step - loss: 1.0383 - tp: 1625.0000 - fp: 6403.0000 - tn: 13888.0000 - fn: 484.0000 - accuracy: 0.6925 - precision: 0.2024 - recall: 0.7705 - auc: 0.8079 - val_loss: 1.0116 - val_tp: 399.0000 - val_fp: 1305.0000 - val_tn: 3768.0000 - val_fn: 128.0000 - val_accuracy: 0.7441 - val_precision: 0.2342 - val_recall: 0.7571 - val_auc: 0.8381\n",
            "Epoch 28/100\n",
            "100/100 [==============================] - 1584s 16s/step - loss: 1.0248 - tp: 1613.0000 - fp: 6239.0000 - tn: 14043.0000 - fn: 505.0000 - accuracy: 0.6989 - precision: 0.2054 - recall: 0.7616 - auc: 0.8144 - val_loss: 0.7217 - val_tp: 405.0000 - val_fp: 1647.0000 - val_tn: 3422.0000 - val_fn: 126.0000 - val_accuracy: 0.6834 - val_precision: 0.1974 - val_recall: 0.7627 - val_auc: 0.8014\n",
            "Epoch 29/100\n",
            "100/100 [==============================] - 1568s 16s/step - loss: 1.0463 - tp: 1603.0000 - fp: 6694.0000 - tn: 13596.0000 - fn: 507.0000 - accuracy: 0.6785 - precision: 0.1932 - recall: 0.7597 - auc: 0.8024 - val_loss: 1.1681 - val_tp: 386.0000 - val_fp: 1730.0000 - val_tn: 3328.0000 - val_fn: 156.0000 - val_accuracy: 0.6632 - val_precision: 0.1824 - val_recall: 0.7122 - val_auc: 0.7716\n",
            "Epoch 30/100\n",
            "100/100 [==============================] - 1493s 15s/step - loss: 1.0354 - tp: 1621.0000 - fp: 6088.0000 - tn: 14194.0000 - fn: 497.0000 - accuracy: 0.7060 - precision: 0.2103 - recall: 0.7653 - auc: 0.8140 - val_loss: 0.8226 - val_tp: 416.0000 - val_fp: 1863.0000 - val_tn: 3226.0000 - val_fn: 95.0000 - val_accuracy: 0.6504 - val_precision: 0.1825 - val_recall: 0.8141 - val_auc: 0.8232\n",
            "Epoch 31/100\n",
            "100/100 [==============================] - 1471s 15s/step - loss: 1.0566 - tp: 1661.0000 - fp: 6487.0000 - tn: 13767.0000 - fn: 485.0000 - accuracy: 0.6888 - precision: 0.2039 - recall: 0.7740 - auc: 0.8052 - val_loss: 0.8874 - val_tp: 417.0000 - val_fp: 1497.0000 - val_tn: 3563.0000 - val_fn: 123.0000 - val_accuracy: 0.7107 - val_precision: 0.2179 - val_recall: 0.7722 - val_auc: 0.8023\n",
            "Epoch 32/100\n",
            "100/100 [==============================] - 1470s 15s/step - loss: 1.0262 - tp: 1609.0000 - fp: 6529.0000 - tn: 13781.0000 - fn: 481.0000 - accuracy: 0.6871 - precision: 0.1977 - recall: 0.7699 - auc: 0.8073 - val_loss: 0.9291 - val_tp: 379.0000 - val_fp: 1423.0000 - val_tn: 3665.0000 - val_fn: 133.0000 - val_accuracy: 0.7221 - val_precision: 0.2103 - val_recall: 0.7402 - val_auc: 0.8210\n",
            "Epoch 33/100\n",
            "100/100 [==============================] - 1467s 15s/step - loss: 1.0239 - tp: 1695.0000 - fp: 6918.0000 - tn: 13345.0000 - fn: 442.0000 - accuracy: 0.6714 - precision: 0.1968 - recall: 0.7932 - auc: 0.8079 - val_loss: 0.9954 - val_tp: 391.0000 - val_fp: 1683.0000 - val_tn: 3389.0000 - val_fn: 137.0000 - val_accuracy: 0.6750 - val_precision: 0.1885 - val_recall: 0.7405 - val_auc: 0.7868\n",
            "Epoch 34/100\n",
            "100/100 [==============================] - 1466s 15s/step - loss: 1.0443 - tp: 1589.0000 - fp: 6209.0000 - tn: 14096.0000 - fn: 506.0000 - accuracy: 0.7002 - precision: 0.2038 - recall: 0.7585 - auc: 0.8057 - val_loss: 1.1633 - val_tp: 399.0000 - val_fp: 1661.0000 - val_tn: 3423.0000 - val_fn: 117.0000 - val_accuracy: 0.6825 - val_precision: 0.1937 - val_recall: 0.7733 - val_auc: 0.8124\n",
            "Epoch 35/100\n",
            "100/100 [==============================] - 1464s 15s/step - loss: 1.0517 - tp: 1637.0000 - fp: 5985.0000 - tn: 14286.0000 - fn: 492.0000 - accuracy: 0.7108 - precision: 0.2148 - recall: 0.7689 - auc: 0.8120 - val_loss: 1.0138 - val_tp: 388.0000 - val_fp: 990.0000 - val_tn: 4079.0000 - val_fn: 143.0000 - val_accuracy: 0.7977 - val_precision: 0.2816 - val_recall: 0.7307 - val_auc: 0.8521\n",
            "Epoch 36/100\n",
            "100/100 [==============================] - 1469s 15s/step - loss: 1.0809 - tp: 1653.0000 - fp: 7072.0000 - tn: 13173.0000 - fn: 502.0000 - accuracy: 0.6619 - precision: 0.1895 - recall: 0.7671 - auc: 0.7905 - val_loss: 1.0509 - val_tp: 398.0000 - val_fp: 1482.0000 - val_tn: 3614.0000 - val_fn: 106.0000 - val_accuracy: 0.7164 - val_precision: 0.2117 - val_recall: 0.7897 - val_auc: 0.8331\n",
            "Epoch 37/100\n",
            "100/100 [==============================] - 1465s 15s/step - loss: 1.0235 - tp: 1645.0000 - fp: 6645.0000 - tn: 13615.0000 - fn: 495.0000 - accuracy: 0.6813 - precision: 0.1984 - recall: 0.7687 - auc: 0.8118 - val_loss: 1.0137 - val_tp: 432.0000 - val_fp: 2171.0000 - val_tn: 2878.0000 - val_fn: 119.0000 - val_accuracy: 0.5911 - val_precision: 0.1660 - val_recall: 0.7840 - val_auc: 0.7718\n",
            "Epoch 38/100\n",
            "100/100 [==============================] - 1458s 15s/step - loss: 1.0363 - tp: 1626.0000 - fp: 6585.0000 - tn: 13705.0000 - fn: 484.0000 - accuracy: 0.6844 - precision: 0.1980 - recall: 0.7706 - auc: 0.8067 - val_loss: 1.3545 - val_tp: 388.0000 - val_fp: 1737.0000 - val_tn: 3351.0000 - val_fn: 124.0000 - val_accuracy: 0.6677 - val_precision: 0.1826 - val_recall: 0.7578 - val_auc: 0.7926\n",
            "Epoch 39/100\n",
            "100/100 [==============================] - 1459s 15s/step - loss: 1.0226 - tp: 1619.0000 - fp: 6835.0000 - tn: 13463.0000 - fn: 483.0000 - accuracy: 0.6733 - precision: 0.1915 - recall: 0.7702 - auc: 0.8058 - val_loss: 1.2599 - val_tp: 400.0000 - val_fp: 1453.0000 - val_tn: 3625.0000 - val_fn: 122.0000 - val_accuracy: 0.7188 - val_precision: 0.2159 - val_recall: 0.7663 - val_auc: 0.8294\n",
            "Epoch 40/100\n",
            "100/100 [==============================] - 1457s 15s/step - loss: 1.0403 - tp: 1595.0000 - fp: 6613.0000 - tn: 13683.0000 - fn: 509.0000 - accuracy: 0.6821 - precision: 0.1943 - recall: 0.7581 - auc: 0.8057 - val_loss: 1.1313 - val_tp: 400.0000 - val_fp: 1559.0000 - val_tn: 3505.0000 - val_fn: 136.0000 - val_accuracy: 0.6973 - val_precision: 0.2042 - val_recall: 0.7463 - val_auc: 0.8039\n",
            "Epoch 41/100\n",
            "100/100 [==============================] - 1450s 14s/step - loss: 1.0236 - tp: 1532.0000 - fp: 6630.0000 - tn: 13731.0000 - fn: 507.0000 - accuracy: 0.6814 - precision: 0.1877 - recall: 0.7513 - auc: 0.7999 - val_loss: 0.9213 - val_tp: 399.0000 - val_fp: 1280.0000 - val_tn: 3796.0000 - val_fn: 125.0000 - val_accuracy: 0.7491 - val_precision: 0.2376 - val_recall: 0.7615 - val_auc: 0.8434\n",
            "Epoch 42/100\n",
            "100/100 [==============================] - 1450s 14s/step - loss: 1.0195 - tp: 1600.0000 - fp: 5891.0000 - tn: 14425.0000 - fn: 484.0000 - accuracy: 0.7154 - precision: 0.2136 - recall: 0.7678 - auc: 0.8199 - val_loss: 1.0546 - val_tp: 396.0000 - val_fp: 1315.0000 - val_tn: 3766.0000 - val_fn: 123.0000 - val_accuracy: 0.7432 - val_precision: 0.2314 - val_recall: 0.7630 - val_auc: 0.8234\n",
            "Epoch 43/100\n",
            "100/100 [==============================] - 1449s 14s/step - loss: 1.0455 - tp: 1589.0000 - fp: 5803.0000 - tn: 14507.0000 - fn: 501.0000 - accuracy: 0.7186 - precision: 0.2150 - recall: 0.7603 - auc: 0.8151 - val_loss: 0.9411 - val_tp: 369.0000 - val_fp: 1378.0000 - val_tn: 3717.0000 - val_fn: 136.0000 - val_accuracy: 0.7296 - val_precision: 0.2112 - val_recall: 0.7307 - val_auc: 0.8170\n",
            "Epoch 44/100\n",
            "100/100 [==============================] - 1452s 15s/step - loss: 1.0549 - tp: 1616.0000 - fp: 6411.0000 - tn: 13845.0000 - fn: 528.0000 - accuracy: 0.6902 - precision: 0.2013 - recall: 0.7537 - auc: 0.8021 - val_loss: 0.9642 - val_tp: 376.0000 - val_fp: 1472.0000 - val_tn: 3618.0000 - val_fn: 134.0000 - val_accuracy: 0.7132 - val_precision: 0.2035 - val_recall: 0.7373 - val_auc: 0.8037\n",
            "Epoch 45/100\n",
            "100/100 [==============================] - 1454s 15s/step - loss: 1.0558 - tp: 1620.0000 - fp: 6845.0000 - tn: 13425.0000 - fn: 510.0000 - accuracy: 0.6717 - precision: 0.1914 - recall: 0.7606 - auc: 0.7989 - val_loss: 1.1176 - val_tp: 423.0000 - val_fp: 1766.0000 - val_tn: 3305.0000 - val_fn: 106.0000 - val_accuracy: 0.6657 - val_precision: 0.1932 - val_recall: 0.7996 - val_auc: 0.8176\n",
            "Epoch 46/100\n",
            "100/100 [==============================] - 1450s 15s/step - loss: 1.0641 - tp: 1539.0000 - fp: 6726.0000 - tn: 13604.0000 - fn: 531.0000 - accuracy: 0.6760 - precision: 0.1862 - recall: 0.7435 - auc: 0.7861 - val_loss: 1.0109 - val_tp: 412.0000 - val_fp: 2001.0000 - val_tn: 3072.0000 - val_fn: 115.0000 - val_accuracy: 0.6221 - val_precision: 0.1707 - val_recall: 0.7818 - val_auc: 0.7807\n",
            "Epoch 47/100\n",
            "100/100 [==============================] - 1443s 14s/step - loss: 1.0187 - tp: 1647.0000 - fp: 6278.0000 - tn: 13952.0000 - fn: 453.0000 - accuracy: 0.6986 - precision: 0.2078 - recall: 0.7843 - auc: 0.8152 - val_loss: 1.3337 - val_tp: 386.0000 - val_fp: 1541.0000 - val_tn: 3537.0000 - val_fn: 136.0000 - val_accuracy: 0.7005 - val_precision: 0.2003 - val_recall: 0.7395 - val_auc: 0.8117\n",
            "Epoch 48/100\n",
            "100/100 [==============================] - 1473s 15s/step - loss: 1.0521 - tp: 1601.0000 - fp: 7010.0000 - tn: 13293.0000 - fn: 496.0000 - accuracy: 0.6649 - precision: 0.1859 - recall: 0.7635 - auc: 0.7919 - val_loss: 1.2203 - val_tp: 427.0000 - val_fp: 1847.0000 - val_tn: 3193.0000 - val_fn: 133.0000 - val_accuracy: 0.6464 - val_precision: 0.1878 - val_recall: 0.7625 - val_auc: 0.7791\n",
            "Epoch 49/100\n",
            "100/100 [==============================] - 1441s 14s/step - loss: 1.0236 - tp: 1597.0000 - fp: 6552.0000 - tn: 13772.0000 - fn: 479.0000 - accuracy: 0.6861 - precision: 0.1960 - recall: 0.7693 - auc: 0.8056 - val_loss: 0.8318 - val_tp: 408.0000 - val_fp: 1486.0000 - val_tn: 3590.0000 - val_fn: 116.0000 - val_accuracy: 0.7139 - val_precision: 0.2154 - val_recall: 0.7786 - val_auc: 0.8464\n",
            "Epoch 50/100\n",
            "100/100 [==============================] - 1440s 14s/step - loss: 1.0410 - tp: 1592.0000 - fp: 6847.0000 - tn: 13457.0000 - fn: 504.0000 - accuracy: 0.6718 - precision: 0.1886 - recall: 0.7595 - auc: 0.7980 - val_loss: 0.9838 - val_tp: 397.0000 - val_fp: 1537.0000 - val_tn: 3551.0000 - val_fn: 115.0000 - val_accuracy: 0.7050 - val_precision: 0.2053 - val_recall: 0.7754 - val_auc: 0.8163\n",
            "Epoch 51/100\n",
            "100/100 [==============================] - 1446s 14s/step - loss: 1.0427 - tp: 1573.0000 - fp: 6387.0000 - tn: 13923.0000 - fn: 517.0000 - accuracy: 0.6918 - precision: 0.1976 - recall: 0.7526 - auc: 0.8038 - val_loss: 1.3568 - val_tp: 462.0000 - val_fp: 2025.0000 - val_tn: 3031.0000 - val_fn: 82.0000 - val_accuracy: 0.6238 - val_precision: 0.1858 - val_recall: 0.8493 - val_auc: 0.8299\n",
            "Epoch 52/100\n",
            "100/100 [==============================] - 1438s 14s/step - loss: 1.0133 - tp: 1633.0000 - fp: 6243.0000 - tn: 14034.0000 - fn: 490.0000 - accuracy: 0.6994 - precision: 0.2073 - recall: 0.7692 - auc: 0.8200 - val_loss: 0.7437 - val_tp: 421.0000 - val_fp: 1563.0000 - val_tn: 3496.0000 - val_fn: 120.0000 - val_accuracy: 0.6995 - val_precision: 0.2122 - val_recall: 0.7782 - val_auc: 0.8259\n",
            "Epoch 53/100\n",
            "100/100 [==============================] - 1448s 14s/step - loss: 1.0277 - tp: 1619.0000 - fp: 6810.0000 - tn: 13470.0000 - fn: 501.0000 - accuracy: 0.6736 - precision: 0.1921 - recall: 0.7637 - auc: 0.8047 - val_loss: 0.9619 - val_tp: 419.0000 - val_fp: 1709.0000 - val_tn: 3352.0000 - val_fn: 120.0000 - val_accuracy: 0.6734 - val_precision: 0.1969 - val_recall: 0.7774 - val_auc: 0.8151\n",
            "Epoch 54/100\n",
            "100/100 [==============================] - 1449s 14s/step - loss: 1.0343 - tp: 1596.0000 - fp: 6497.0000 - tn: 13820.0000 - fn: 487.0000 - accuracy: 0.6882 - precision: 0.1972 - recall: 0.7662 - auc: 0.8064 - val_loss: 0.8125 - val_tp: 440.0000 - val_fp: 1487.0000 - val_tn: 3577.0000 - val_fn: 96.0000 - val_accuracy: 0.7173 - val_precision: 0.2283 - val_recall: 0.8209 - val_auc: 0.8574\n",
            "Epoch 55/100\n",
            "100/100 [==============================] - 1451s 15s/step - loss: 1.0161 - tp: 1574.0000 - fp: 5645.0000 - tn: 14652.0000 - fn: 529.0000 - accuracy: 0.7244 - precision: 0.2180 - recall: 0.7485 - auc: 0.8200 - val_loss: 1.1859 - val_tp: 429.0000 - val_fp: 1868.0000 - val_tn: 3202.0000 - val_fn: 101.0000 - val_accuracy: 0.6484 - val_precision: 0.1868 - val_recall: 0.8094 - val_auc: 0.8258\n",
            "Epoch 56/100\n",
            "100/100 [==============================] - 1450s 15s/step - loss: 1.0016 - tp: 1690.0000 - fp: 6136.0000 - tn: 14142.0000 - fn: 432.0000 - accuracy: 0.7068 - precision: 0.2159 - recall: 0.7964 - auc: 0.8278 - val_loss: 0.7560 - val_tp: 420.0000 - val_fp: 1467.0000 - val_tn: 3615.0000 - val_fn: 98.0000 - val_accuracy: 0.7205 - val_precision: 0.2226 - val_recall: 0.8108 - val_auc: 0.8359\n",
            "Epoch 57/100\n",
            "100/100 [==============================] - 1449s 14s/step - loss: 1.0290 - tp: 1650.0000 - fp: 6428.0000 - tn: 13837.0000 - fn: 485.0000 - accuracy: 0.6914 - precision: 0.2043 - recall: 0.7728 - auc: 0.8150 - val_loss: 1.1186 - val_tp: 408.0000 - val_fp: 1736.0000 - val_tn: 3309.0000 - val_fn: 147.0000 - val_accuracy: 0.6637 - val_precision: 0.1903 - val_recall: 0.7351 - val_auc: 0.7888\n",
            "Epoch 58/100\n",
            "100/100 [==============================] - 1453s 15s/step - loss: 1.0139 - tp: 1612.0000 - fp: 6037.0000 - tn: 14262.0000 - fn: 489.0000 - accuracy: 0.7087 - precision: 0.2107 - recall: 0.7673 - auc: 0.8162 - val_loss: 0.9524 - val_tp: 434.0000 - val_fp: 1553.0000 - val_tn: 3501.0000 - val_fn: 112.0000 - val_accuracy: 0.7027 - val_precision: 0.2184 - val_recall: 0.7949 - val_auc: 0.8191\n",
            "Epoch 59/100\n",
            "100/100 [==============================] - 1451s 15s/step - loss: 1.0116 - tp: 1667.0000 - fp: 6162.0000 - tn: 14103.0000 - fn: 468.0000 - accuracy: 0.7040 - precision: 0.2129 - recall: 0.7808 - auc: 0.8232 - val_loss: 1.1385 - val_tp: 388.0000 - val_fp: 1768.0000 - val_tn: 3294.0000 - val_fn: 150.0000 - val_accuracy: 0.6575 - val_precision: 0.1800 - val_recall: 0.7212 - val_auc: 0.7581\n",
            "Epoch 60/100\n",
            "100/100 [==============================] - 1455s 15s/step - loss: 1.0154 - tp: 1673.0000 - fp: 6030.0000 - tn: 14229.0000 - fn: 468.0000 - accuracy: 0.7099 - precision: 0.2172 - recall: 0.7814 - auc: 0.8254 - val_loss: 1.0961 - val_tp: 394.0000 - val_fp: 1410.0000 - val_tn: 3685.0000 - val_fn: 111.0000 - val_accuracy: 0.7284 - val_precision: 0.2184 - val_recall: 0.7802 - val_auc: 0.8394\n",
            "Epoch 61/100\n",
            "100/100 [==============================] - 1473s 15s/step - loss: 1.0248 - tp: 1676.0000 - fp: 6110.0000 - tn: 14120.0000 - fn: 494.0000 - accuracy: 0.7052 - precision: 0.2153 - recall: 0.7724 - auc: 0.8229 - val_loss: 1.2070 - val_tp: 404.0000 - val_fp: 1479.0000 - val_tn: 3600.0000 - val_fn: 117.0000 - val_accuracy: 0.7150 - val_precision: 0.2146 - val_recall: 0.7754 - val_auc: 0.8279\n",
            "Epoch 62/100\n",
            "100/100 [==============================] - 1509s 15s/step - loss: 1.0487 - tp: 1613.0000 - fp: 6682.0000 - tn: 13592.0000 - fn: 513.0000 - accuracy: 0.6788 - precision: 0.1945 - recall: 0.7587 - auc: 0.8012 - val_loss: 0.9171 - val_tp: 379.0000 - val_fp: 1408.0000 - val_tn: 3693.0000 - val_fn: 120.0000 - val_accuracy: 0.7271 - val_precision: 0.2121 - val_recall: 0.7595 - val_auc: 0.8295\n",
            "Epoch 63/100\n",
            "100/100 [==============================] - 1526s 15s/step - loss: 1.0235 - tp: 1647.0000 - fp: 6488.0000 - tn: 13759.0000 - fn: 506.0000 - accuracy: 0.6878 - precision: 0.2025 - recall: 0.7650 - auc: 0.8169 - val_loss: 1.1497 - val_tp: 410.0000 - val_fp: 1655.0000 - val_tn: 3426.0000 - val_fn: 109.0000 - val_accuracy: 0.6850 - val_precision: 0.1985 - val_recall: 0.7900 - val_auc: 0.8146\n",
            "Epoch 64/100\n",
            "100/100 [==============================] - 1510s 15s/step - loss: 1.0308 - tp: 1662.0000 - fp: 6191.0000 - tn: 14074.0000 - fn: 473.0000 - accuracy: 0.7025 - precision: 0.2116 - recall: 0.7785 - auc: 0.8158 - val_loss: 0.8940 - val_tp: 382.0000 - val_fp: 1444.0000 - val_tn: 3619.0000 - val_fn: 155.0000 - val_accuracy: 0.7145 - val_precision: 0.2092 - val_recall: 0.7114 - val_auc: 0.7919\n",
            "Epoch 65/100\n",
            "100/100 [==============================] - 1492s 15s/step - loss: 0.9779 - tp: 1621.0000 - fp: 5986.0000 - tn: 14324.0000 - fn: 469.0000 - accuracy: 0.7118 - precision: 0.2131 - recall: 0.7756 - auc: 0.8281 - val_loss: 0.8797 - val_tp: 443.0000 - val_fp: 1728.0000 - val_tn: 3327.0000 - val_fn: 102.0000 - val_accuracy: 0.6732 - val_precision: 0.2041 - val_recall: 0.8128 - val_auc: 0.8317\n",
            "Epoch 66/100\n",
            "100/100 [==============================] - 1464s 15s/step - loss: 0.9848 - tp: 1610.0000 - fp: 5165.0000 - tn: 15139.0000 - fn: 486.0000 - accuracy: 0.7477 - precision: 0.2376 - recall: 0.7681 - auc: 0.8418 - val_loss: 0.9602 - val_tp: 412.0000 - val_fp: 1260.0000 - val_tn: 3801.0000 - val_fn: 127.0000 - val_accuracy: 0.7523 - val_precision: 0.2464 - val_recall: 0.7644 - val_auc: 0.8440\n",
            "Epoch 67/100\n",
            "100/100 [==============================] - 1457s 15s/step - loss: 0.9745 - tp: 1631.0000 - fp: 5966.0000 - tn: 14342.0000 - fn: 461.0000 - accuracy: 0.7131 - precision: 0.2147 - recall: 0.7796 - auc: 0.8310 - val_loss: 1.2383 - val_tp: 401.0000 - val_fp: 1390.0000 - val_tn: 3685.0000 - val_fn: 110.0000 - val_accuracy: 0.7315 - val_precision: 0.2239 - val_recall: 0.7847 - val_auc: 0.8428\n",
            "Epoch 68/100\n",
            "100/100 [==============================] - 1458s 15s/step - loss: 0.9927 - tp: 1702.0000 - fp: 6110.0000 - tn: 14140.0000 - fn: 448.0000 - accuracy: 0.7072 - precision: 0.2179 - recall: 0.7916 - auc: 0.8323 - val_loss: 0.9492 - val_tp: 404.0000 - val_fp: 1460.0000 - val_tn: 3608.0000 - val_fn: 128.0000 - val_accuracy: 0.7164 - val_precision: 0.2167 - val_recall: 0.7594 - val_auc: 0.8328\n",
            "Epoch 69/100\n",
            "100/100 [==============================] - 1458s 15s/step - loss: 0.9767 - tp: 1583.0000 - fp: 5992.0000 - tn: 14343.0000 - fn: 482.0000 - accuracy: 0.7110 - precision: 0.2090 - recall: 0.7666 - auc: 0.8262 - val_loss: 1.2601 - val_tp: 428.0000 - val_fp: 1581.0000 - val_tn: 3479.0000 - val_fn: 112.0000 - val_accuracy: 0.6977 - val_precision: 0.2130 - val_recall: 0.7926 - val_auc: 0.8203\n",
            "Epoch 70/100\n",
            "100/100 [==============================] - 1455s 15s/step - loss: 0.9537 - tp: 1683.0000 - fp: 5759.0000 - tn: 14539.0000 - fn: 419.0000 - accuracy: 0.7242 - precision: 0.2261 - recall: 0.8007 - auc: 0.8445 - val_loss: 0.8412 - val_tp: 449.0000 - val_fp: 1305.0000 - val_tn: 3764.0000 - val_fn: 82.0000 - val_accuracy: 0.7523 - val_precision: 0.2560 - val_recall: 0.8456 - val_auc: 0.8747\n",
            "Epoch 71/100\n",
            "100/100 [==============================] - 1474s 15s/step - loss: 0.9998 - tp: 1667.0000 - fp: 5736.0000 - tn: 14525.0000 - fn: 472.0000 - accuracy: 0.7229 - precision: 0.2252 - recall: 0.7793 - auc: 0.8293 - val_loss: 1.1318 - val_tp: 419.0000 - val_fp: 1538.0000 - val_tn: 3528.0000 - val_fn: 115.0000 - val_accuracy: 0.7048 - val_precision: 0.2141 - val_recall: 0.7846 - val_auc: 0.8173\n",
            "Epoch 72/100\n",
            "100/100 [==============================] - 1451s 15s/step - loss: 1.0070 - tp: 1624.0000 - fp: 5918.0000 - tn: 14374.0000 - fn: 484.0000 - accuracy: 0.7142 - precision: 0.2153 - recall: 0.7704 - auc: 0.8220 - val_loss: 1.1054 - val_tp: 394.0000 - val_fp: 1318.0000 - val_tn: 3763.0000 - val_fn: 125.0000 - val_accuracy: 0.7423 - val_precision: 0.2301 - val_recall: 0.7592 - val_auc: 0.8308\n",
            "Epoch 73/100\n",
            "100/100 [==============================] - 1456s 15s/step - loss: 1.0180 - tp: 1629.0000 - fp: 6271.0000 - tn: 14002.0000 - fn: 498.0000 - accuracy: 0.6978 - precision: 0.2062 - recall: 0.7659 - auc: 0.8178 - val_loss: 1.0243 - val_tp: 415.0000 - val_fp: 1519.0000 - val_tn: 3560.0000 - val_fn: 106.0000 - val_accuracy: 0.7098 - val_precision: 0.2146 - val_recall: 0.7965 - val_auc: 0.8378\n",
            "Epoch 74/100\n",
            "100/100 [==============================] - 1474s 15s/step - loss: 0.9713 - tp: 1632.0000 - fp: 5986.0000 - tn: 14318.0000 - fn: 464.0000 - accuracy: 0.7121 - precision: 0.2142 - recall: 0.7786 - auc: 0.8310 - val_loss: 1.7283 - val_tp: 419.0000 - val_fp: 1272.0000 - val_tn: 3778.0000 - val_fn: 131.0000 - val_accuracy: 0.7495 - val_precision: 0.2478 - val_recall: 0.7618 - val_auc: 0.8260\n",
            "Epoch 75/100\n",
            "100/100 [==============================] - 1469s 15s/step - loss: 1.0090 - tp: 1627.0000 - fp: 6056.0000 - tn: 14258.0000 - fn: 459.0000 - accuracy: 0.7092 - precision: 0.2118 - recall: 0.7800 - auc: 0.8204 - val_loss: 1.2934 - val_tp: 438.0000 - val_fp: 1461.0000 - val_tn: 3607.0000 - val_fn: 94.0000 - val_accuracy: 0.7223 - val_precision: 0.2306 - val_recall: 0.8233 - val_auc: 0.8474\n",
            "Epoch 76/100\n",
            "100/100 [==============================] - 1470s 15s/step - loss: 1.0056 - tp: 1654.0000 - fp: 6069.0000 - tn: 14211.0000 - fn: 466.0000 - accuracy: 0.7083 - precision: 0.2142 - recall: 0.7802 - auc: 0.8240 - val_loss: 1.1029 - val_tp: 402.0000 - val_fp: 1718.0000 - val_tn: 3346.0000 - val_fn: 134.0000 - val_accuracy: 0.6693 - val_precision: 0.1896 - val_recall: 0.7500 - val_auc: 0.7916\n",
            "Epoch 77/100\n",
            "100/100 [==============================] - 1467s 15s/step - loss: 0.9967 - tp: 1659.0000 - fp: 5472.0000 - tn: 14802.0000 - fn: 467.0000 - accuracy: 0.7349 - precision: 0.2326 - recall: 0.7803 - auc: 0.8384 - val_loss: 0.9644 - val_tp: 387.0000 - val_fp: 1351.0000 - val_tn: 3722.0000 - val_fn: 140.0000 - val_accuracy: 0.7338 - val_precision: 0.2227 - val_recall: 0.7343 - val_auc: 0.8124\n",
            "Epoch 78/100\n",
            "100/100 [==============================] - 1469s 15s/step - loss: 0.9992 - tp: 1692.0000 - fp: 5660.0000 - tn: 14589.0000 - fn: 459.0000 - accuracy: 0.7268 - precision: 0.2301 - recall: 0.7866 - auc: 0.8351 - val_loss: 0.8962 - val_tp: 371.0000 - val_fp: 1215.0000 - val_tn: 3875.0000 - val_fn: 139.0000 - val_accuracy: 0.7582 - val_precision: 0.2339 - val_recall: 0.7275 - val_auc: 0.8349\n",
            "Epoch 79/100\n",
            "100/100 [==============================] - 1469s 15s/step - loss: 1.0044 - tp: 1710.0000 - fp: 6142.0000 - tn: 14097.0000 - fn: 451.0000 - accuracy: 0.7057 - precision: 0.2178 - recall: 0.7913 - auc: 0.8306 - val_loss: 1.4865 - val_tp: 416.0000 - val_fp: 1413.0000 - val_tn: 3665.0000 - val_fn: 106.0000 - val_accuracy: 0.7288 - val_precision: 0.2274 - val_recall: 0.7969 - val_auc: 0.8447\n",
            "Epoch 80/100\n",
            "100/100 [==============================] - 1467s 15s/step - loss: 1.0157 - tp: 1670.0000 - fp: 5938.0000 - tn: 14311.0000 - fn: 481.0000 - accuracy: 0.7134 - precision: 0.2195 - recall: 0.7764 - auc: 0.8293 - val_loss: 0.9449 - val_tp: 395.0000 - val_fp: 1914.0000 - val_tn: 3183.0000 - val_fn: 108.0000 - val_accuracy: 0.6389 - val_precision: 0.1711 - val_recall: 0.7853 - val_auc: 0.7938\n",
            "Epoch 81/100\n",
            "100/100 [==============================] - 1466s 15s/step - loss: 0.9838 - tp: 1676.0000 - fp: 5904.0000 - tn: 14357.0000 - fn: 463.0000 - accuracy: 0.7158 - precision: 0.2211 - recall: 0.7835 - auc: 0.8339 - val_loss: 0.8086 - val_tp: 410.0000 - val_fp: 1532.0000 - val_tn: 3540.0000 - val_fn: 118.0000 - val_accuracy: 0.7054 - val_precision: 0.2111 - val_recall: 0.7765 - val_auc: 0.8187\n",
            "Epoch 82/100\n",
            "100/100 [==============================] - 1465s 15s/step - loss: 0.9563 - tp: 1650.0000 - fp: 5819.0000 - tn: 14481.0000 - fn: 450.0000 - accuracy: 0.7201 - precision: 0.2209 - recall: 0.7857 - auc: 0.8397 - val_loss: 1.3561 - val_tp: 377.0000 - val_fp: 1282.0000 - val_tn: 3822.0000 - val_fn: 119.0000 - val_accuracy: 0.7498 - val_precision: 0.2272 - val_recall: 0.7601 - val_auc: 0.8391\n",
            "Epoch 83/100\n",
            "100/100 [==============================] - 1462s 15s/step - loss: 0.9761 - tp: 1632.0000 - fp: 6000.0000 - tn: 14231.0000 - fn: 467.0000 - accuracy: 0.7104 - precision: 0.2138 - recall: 0.7775 - auc: 0.8286 - val_loss: 1.0704 - val_tp: 402.0000 - val_fp: 1705.0000 - val_tn: 3365.0000 - val_fn: 128.0000 - val_accuracy: 0.6727 - val_precision: 0.1908 - val_recall: 0.7585 - val_auc: 0.7955\n",
            "Epoch 84/100\n",
            "100/100 [==============================] - 1465s 15s/step - loss: 1.0123 - tp: 1626.0000 - fp: 6129.0000 - tn: 14132.0000 - fn: 513.0000 - accuracy: 0.7035 - precision: 0.2097 - recall: 0.7602 - auc: 0.8159 - val_loss: 0.8974 - val_tp: 410.0000 - val_fp: 1416.0000 - val_tn: 3671.0000 - val_fn: 103.0000 - val_accuracy: 0.7287 - val_precision: 0.2245 - val_recall: 0.7992 - val_auc: 0.8468\n",
            "Epoch 85/100\n",
            "100/100 [==============================] - 1459s 15s/step - loss: 0.9949 - tp: 1614.0000 - fp: 6250.0000 - tn: 14077.0000 - fn: 459.0000 - accuracy: 0.7005 - precision: 0.2052 - recall: 0.7786 - auc: 0.8195 - val_loss: 0.7640 - val_tp: 449.0000 - val_fp: 1625.0000 - val_tn: 3418.0000 - val_fn: 108.0000 - val_accuracy: 0.6905 - val_precision: 0.2165 - val_recall: 0.8061 - val_auc: 0.8291\n",
            "Epoch 86/100\n",
            "100/100 [==============================] - 1469s 15s/step - loss: 0.9871 - tp: 1655.0000 - fp: 6579.0000 - tn: 13690.0000 - fn: 476.0000 - accuracy: 0.6850 - precision: 0.2010 - recall: 0.7766 - auc: 0.8169 - val_loss: 1.4093 - val_tp: 381.0000 - val_fp: 1610.0000 - val_tn: 3466.0000 - val_fn: 143.0000 - val_accuracy: 0.6870 - val_precision: 0.1914 - val_recall: 0.7271 - val_auc: 0.7866\n",
            "Epoch 87/100\n",
            "100/100 [==============================] - 1471s 15s/step - loss: 0.9647 - tp: 1663.0000 - fp: 5710.0000 - tn: 14587.0000 - fn: 440.0000 - accuracy: 0.7254 - precision: 0.2256 - recall: 0.7908 - auc: 0.8370 - val_loss: 1.0523 - val_tp: 409.0000 - val_fp: 1394.0000 - val_tn: 3682.0000 - val_fn: 115.0000 - val_accuracy: 0.7305 - val_precision: 0.2268 - val_recall: 0.7805 - val_auc: 0.8280\n",
            "Epoch 88/100\n",
            "100/100 [==============================] - 1466s 15s/step - loss: 0.9847 - tp: 1596.0000 - fp: 6006.0000 - tn: 14333.0000 - fn: 465.0000 - accuracy: 0.7111 - precision: 0.2099 - recall: 0.7744 - auc: 0.8214 - val_loss: 0.9232 - val_tp: 368.0000 - val_fp: 2022.0000 - val_tn: 3052.0000 - val_fn: 158.0000 - val_accuracy: 0.6107 - val_precision: 0.1540 - val_recall: 0.6996 - val_auc: 0.7194\n",
            "Epoch 89/100\n",
            "100/100 [==============================] - 1442s 14s/step - loss: 0.9867 - tp: 1620.0000 - fp: 6102.0000 - tn: 14216.0000 - fn: 462.0000 - accuracy: 0.7070 - precision: 0.2098 - recall: 0.7781 - auc: 0.8222 - val_loss: 0.9223 - val_tp: 433.0000 - val_fp: 1723.0000 - val_tn: 3326.0000 - val_fn: 118.0000 - val_accuracy: 0.6712 - val_precision: 0.2008 - val_recall: 0.7858 - val_auc: 0.8027\n",
            "Epoch 90/100\n",
            "100/100 [==============================] - 1446s 14s/step - loss: 0.9767 - tp: 1656.0000 - fp: 6263.0000 - tn: 14018.0000 - fn: 463.0000 - accuracy: 0.6997 - precision: 0.2091 - recall: 0.7815 - auc: 0.8267 - val_loss: 1.0798 - val_tp: 412.0000 - val_fp: 2102.0000 - val_tn: 2964.0000 - val_fn: 122.0000 - val_accuracy: 0.6029 - val_precision: 0.1639 - val_recall: 0.7715 - val_auc: 0.7636\n",
            "Epoch 91/100\n",
            "100/100 [==============================] - 1443s 14s/step - loss: 0.9773 - tp: 1622.0000 - fp: 6050.0000 - tn: 14288.0000 - fn: 440.0000 - accuracy: 0.7103 - precision: 0.2114 - recall: 0.7866 - auc: 0.8322 - val_loss: 1.1043 - val_tp: 388.0000 - val_fp: 1534.0000 - val_tn: 3561.0000 - val_fn: 117.0000 - val_accuracy: 0.7052 - val_precision: 0.2019 - val_recall: 0.7683 - val_auc: 0.8239\n",
            "Epoch 92/100\n",
            "100/100 [==============================] - 1435s 14s/step - loss: 0.9658 - tp: 1614.0000 - fp: 5679.0000 - tn: 14639.0000 - fn: 468.0000 - accuracy: 0.7256 - precision: 0.2213 - recall: 0.7752 - auc: 0.8357 - val_loss: 1.0460 - val_tp: 387.0000 - val_fp: 1595.0000 - val_tn: 3466.0000 - val_fn: 152.0000 - val_accuracy: 0.6880 - val_precision: 0.1953 - val_recall: 0.7180 - val_auc: 0.7799\n",
            "Epoch 93/100\n",
            "100/100 [==============================] - 1453s 15s/step - loss: 0.9704 - tp: 1672.0000 - fp: 5870.0000 - tn: 14416.0000 - fn: 442.0000 - accuracy: 0.7182 - precision: 0.2217 - recall: 0.7909 - auc: 0.8382 - val_loss: 0.9330 - val_tp: 424.0000 - val_fp: 1142.0000 - val_tn: 3933.0000 - val_fn: 101.0000 - val_accuracy: 0.7780 - val_precision: 0.2708 - val_recall: 0.8076 - val_auc: 0.8696\n",
            "Epoch 94/100\n",
            "100/100 [==============================] - 1439s 14s/step - loss: 0.9753 - tp: 1664.0000 - fp: 5799.0000 - tn: 14480.0000 - fn: 457.0000 - accuracy: 0.7207 - precision: 0.2230 - recall: 0.7845 - auc: 0.8358 - val_loss: 0.9235 - val_tp: 416.0000 - val_fp: 1538.0000 - val_tn: 3533.0000 - val_fn: 113.0000 - val_accuracy: 0.7052 - val_precision: 0.2129 - val_recall: 0.7864 - val_auc: 0.8228\n",
            "Epoch 95/100\n",
            "100/100 [==============================] - 1439s 14s/step - loss: 0.9682 - tp: 1704.0000 - fp: 5645.0000 - tn: 14624.0000 - fn: 427.0000 - accuracy: 0.7289 - precision: 0.2319 - recall: 0.7996 - auc: 0.8422 - val_loss: 1.1121 - val_tp: 411.0000 - val_fp: 1517.0000 - val_tn: 3551.0000 - val_fn: 121.0000 - val_accuracy: 0.7075 - val_precision: 0.2132 - val_recall: 0.7726 - val_auc: 0.8275\n",
            "Epoch 96/100\n",
            "100/100 [==============================] - 1440s 14s/step - loss: 0.9607 - tp: 1650.0000 - fp: 5837.0000 - tn: 14470.0000 - fn: 443.0000 - accuracy: 0.7196 - precision: 0.2204 - recall: 0.7883 - auc: 0.8414 - val_loss: 1.2020 - val_tp: 427.0000 - val_fp: 1493.0000 - val_tn: 3586.0000 - val_fn: 94.0000 - val_accuracy: 0.7166 - val_precision: 0.2224 - val_recall: 0.8196 - val_auc: 0.8424\n",
            "Epoch 97/100\n",
            "100/100 [==============================] - 1444s 14s/step - loss: 0.9826 - tp: 1662.0000 - fp: 5535.0000 - tn: 14737.0000 - fn: 466.0000 - accuracy: 0.7321 - precision: 0.2309 - recall: 0.7810 - auc: 0.8417 - val_loss: 1.3766 - val_tp: 422.0000 - val_fp: 1325.0000 - val_tn: 3737.0000 - val_fn: 116.0000 - val_accuracy: 0.7427 - val_precision: 0.2416 - val_recall: 0.7844 - val_auc: 0.8458\n",
            "Epoch 98/100\n",
            "100/100 [==============================] - 1440s 14s/step - loss: 0.9789 - tp: 1636.0000 - fp: 5202.0000 - tn: 15096.0000 - fn: 466.0000 - accuracy: 0.7470 - precision: 0.2393 - recall: 0.7783 - auc: 0.8445 - val_loss: 0.8612 - val_tp: 394.0000 - val_fp: 1428.0000 - val_tn: 3656.0000 - val_fn: 122.0000 - val_accuracy: 0.7232 - val_precision: 0.2162 - val_recall: 0.7636 - val_auc: 0.8179\n",
            "Epoch 99/100\n",
            "100/100 [==============================] - 1440s 14s/step - loss: 0.9909 - tp: 1642.0000 - fp: 5571.0000 - tn: 14730.0000 - fn: 457.0000 - accuracy: 0.7309 - precision: 0.2276 - recall: 0.7823 - auc: 0.8367 - val_loss: 1.0755 - val_tp: 423.0000 - val_fp: 1714.0000 - val_tn: 3359.0000 - val_fn: 104.0000 - val_accuracy: 0.6754 - val_precision: 0.1979 - val_recall: 0.8027 - val_auc: 0.8045\n",
            "Epoch 100/100\n",
            "100/100 [==============================] - 1439s 14s/step - loss: 0.9924 - tp: 1630.0000 - fp: 5954.0000 - tn: 14345.0000 - fn: 471.0000 - accuracy: 0.7132 - precision: 0.2149 - recall: 0.7758 - auc: 0.8283 - val_loss: 0.9822 - val_tp: 409.0000 - val_fp: 1662.0000 - val_tn: 3415.0000 - val_fn: 114.0000 - val_accuracy: 0.6829 - val_precision: 0.1975 - val_recall: 0.7820 - val_auc: 0.8109\n"
          ]
        },
        {
          "data": {
            "image/png": "[encoded data removed]",
            "text/plain": [
              "<Figure size 432x288 with 1 Axes>"
            ]
          },
          "metadata": {
            "needs_background": "light"
          },
          "output_type": "display_data"
        }
      ],
      "source": [
        "history = model.fit_generator(train_generator, \n",
        "                              validation_data=valid_generator,\n",
        "                              steps_per_epoch=100, \n",
        "                              validation_steps=25, \n",
        "                              epochs = 100)\n",
        " \n",
        "plt.plot(history.history['loss'])\n",
        "plt.ylabel(\"loss\")\n",
        "plt.xlabel(\"epoch\")\n",
        "plt.title(\"Training Loss Curve\")\n",
        "plt.show()\n",
        "\n",
        "model.save('my_model.hdf5')\n",
        "model.save('my_model.h5')"
      ]
    },
    {
      "cell_type": "markdown",
      "metadata": {
        "id": "xB5nsGKrn5yp"
      },
      "source": []
    },
    {
      "cell_type": "code",
      "execution_count": 99,
      "metadata": {
        "id": "ih_pdcBiQgLM"
      },
      "outputs": [
        {
          "name": "stdout",
          "output_type": "stream",
          "text": [
            "Model saved successfully in multiple formats\n"
          ]
        }
      ],
      "source": [
        "model.save_weights('my_model_weights.h5')\n",
        "\n",
        "model_json = model.to_json()\n",
        "with open('my_model_config.json', 'w') as json_file:\n",
        "    json_file.write(model_json)\n",
        "\n",
        "print(\"Model saved successfully in multiple formats\")"
      ]
    },
    {
      "cell_type": "code",
      "execution_count": 100,
      "metadata": {},
      "outputs": [
        {
          "name": "stdout",
          "output_type": "stream",
          "text": [
            "Validation generator vs valid_df:\n",
            "  files_in_generator: 26431\n",
            "  files_in_df: 26431\n",
            "  files_in_both: 26431\n",
            "  files_only_in_generator: 0\n",
            "  files_only_in_df: 0\n",
            "  match_percentage: 100.0\n",
            "\n",
            "Test generator vs test_df:\n",
            "  files_in_generator: 1824\n",
            "  files_in_df: 1824\n",
            "  files_in_both: 1824\n",
            "  files_only_in_generator: 0\n",
            "  files_only_in_df: 0\n",
            "  match_percentage: 100.0\n"
          ]
        }
      ],
      "source": [
        "# Check if generator is using the correct files from test_df\n",
        "def compare_generator_with_df(generator, df, image_col=\"Image\"):\n",
        "    \"\"\"\n",
        "    Compare files in generator with files in DataFrame\n",
        "    \n",
        "    Args:\n",
        "        generator: Keras data generator\n",
        "        df: DataFrame with image filenames\n",
        "        image_col: Column name containing image filenames\n",
        "    \n",
        "    Returns:\n",
        "        Match statistics\n",
        "    \"\"\"\n",
        "    # Get filenames from generator\n",
        "    if not hasattr(generator, 'filenames'):\n",
        "        return \"Generator doesn't have filenames attribute\"\n",
        "    \n",
        "    generator_files = set(generator.filenames)\n",
        "    \n",
        "    # Get filenames from DataFrame\n",
        "    if image_col not in df.columns:\n",
        "        return f\"No column named '{image_col}' in DataFrame\"\n",
        "    \n",
        "    df_files = set(df[image_col].values)\n",
        "    \n",
        "    # Compare sets\n",
        "    common_files = generator_files.intersection(df_files)\n",
        "    only_in_generator = generator_files - df_files\n",
        "    only_in_df = df_files - generator_files\n",
        "    \n",
        "    # Return statistics\n",
        "    results = {\n",
        "        'files_in_generator': len(generator_files),\n",
        "        'files_in_df': len(df_files),\n",
        "        'files_in_both': len(common_files),\n",
        "        'files_only_in_generator': len(only_in_generator),\n",
        "        'files_only_in_df': len(only_in_df),\n",
        "        'match_percentage': len(common_files) / len(df_files) * 100 if len(df_files) > 0 else 0\n",
        "    }\n",
        "    \n",
        "    return results\n",
        "\n",
        "# Check both generators against their expected DataFrames\n",
        "valid_comparison = compare_generator_with_df(valid_generator, valid_df)\n",
        "test_comparison = compare_generator_with_df(test_generator, test_df)\n",
        "\n",
        "print(\"Validation generator vs valid_df:\")\n",
        "for key, value in valid_comparison.items():\n",
        "    print(f\"  {key}: {value}\")\n",
        "\n",
        "print(\"\\nTest generator vs test_df:\")\n",
        "for key, value in test_comparison.items():\n",
        "    print(f\"  {key}: {value}\")\n",
        "\n",
        "# If there's a mismatch, show some examples\n",
        "if isinstance(valid_comparison, dict) and valid_comparison['match_percentage'] < 100:\n",
        "    print(\"\\nSample filenames in validation generator:\")\n",
        "    for filename in list(test_generator.filenames)[:5]:\n",
        "        print(f\"  {filename}\")\n",
        "    \n",
        "    print(\"\\nSample filenames in valid_df:\")\n",
        "    for filename in valid_df['Image'].values[:5]:\n",
        "        print(f\"  {filename}\")\n",
        "\n",
        "if isinstance(test_comparison, dict) and test_comparison['match_percentage'] < 100:\n",
        "    print(\"\\nSample filenames in test generator:\")\n",
        "    for filename in list(valid_generator.filenames)[:5]:\n",
        "        print(f\"  {filename}\")\n",
        "    \n",
        "    print(\"\\nSample filenames in test_df:\")\n",
        "    for filename in test_df['Image'].values[:5]:\n",
        "        print(f\"  {filename}\")"
      ]
    },
    {
      "cell_type": "code",
      "execution_count": null,
      "metadata": {
        "colab": {
          "base_uri": "https://localhost:8080/"
        },
        "id": "QzNrhtf1w2bI",
        "outputId": "3ce6e24f-491b-45dd-88d3-3cf356299929",
        "scrolled": true
      },
      "outputs": [],
      "source": [
        "predicted_vals = model.predict_generator(test_generator, steps = len(test_generator))"
      ]
    },
    {
      "cell_type": "code",
      "execution_count": 102,
      "metadata": {},
      "outputs": [
        {
          "data": {
            "text/plain": [
              "1824"
            ]
          },
          "execution_count": 102,
          "metadata": {},
          "output_type": "execute_result"
        }
      ],
      "source": [
        "len(test_generator.filenames)"
      ]
    },
    {
      "cell_type": "markdown",
      "metadata": {
        "id": "wtjCtaGen5yt"
      },
      "source": []
    },
    {
      "cell_type": "code",
      "execution_count": 104,
      "metadata": {},
      "outputs": [
        {
          "name": "stdout",
          "output_type": "stream",
          "text": [
            "\n",
            "Image 1:\n",
            "----------------------------------------\n",
            "Filename: p19/p19061282/s50010466/144f46e1-630ba5e3-82d84674-9f0575c5-6017bdd1.jpg\n",
            "Pathology Predictions:\n",
            "Atelectasis: 0.2659\n",
            "Cardiomegaly: 0.4719\n",
            "Consolidation: 0.2951\n",
            "Edema: 0.1105\n",
            "Enlarged Cardiomediastinum: 0.5096\n",
            "Fracture: 0.4287\n",
            "Lung Lesion: 0.4626\n",
            "Lung Opacity: 0.5635\n",
            "No Finding: 0.5209\n",
            "Pleural Other: 0.3183\n",
            "Pleural Effusion: 0.1178\n",
            "Pneumonia: 0.5208\n",
            "Pneumothorax: 0.2437\n",
            "Support Devices: 0.3659\n",
            "\n",
            "Image 2:\n",
            "----------------------------------------\n",
            "Filename: p18/p18835687/s50014127/73da0836-553a87de-58ef0562-f9c31de6-c47927ac.jpg\n",
            "Pathology Predictions:\n",
            "Atelectasis: 0.3400\n",
            "Cardiomegaly: 0.1577\n",
            "Consolidation: 0.2269\n",
            "Edema: 0.0953\n",
            "Enlarged Cardiomediastinum: 0.7545\n",
            "Fracture: 0.4283\n",
            "Lung Lesion: 0.3943\n",
            "Lung Opacity: 0.5271\n",
            "No Finding: 0.6307\n",
            "Pleural Other: 0.2017\n",
            "Pleural Effusion: 0.0680\n",
            "Pneumonia: 0.3033\n",
            "Pneumothorax: 0.5240\n",
            "Support Devices: 0.5955\n",
            "\n",
            "Image 3:\n",
            "----------------------------------------\n",
            "Filename: p15/p15131736/s50016102/b57face8-df2c3c57-2a99e6b1-4919f774-c8c3e93c.jpg\n",
            "Pathology Predictions:\n",
            "Atelectasis: 0.5137\n",
            "Cardiomegaly: 0.9290\n",
            "Consolidation: 0.6015\n",
            "Edema: 0.9597\n",
            "Enlarged Cardiomediastinum: 0.6658\n",
            "Fracture: 0.3043\n",
            "Lung Lesion: 0.1327\n",
            "Lung Opacity: 0.6738\n",
            "No Finding: 0.0384\n",
            "Pleural Other: 0.3307\n",
            "Pleural Effusion: 0.8086\n",
            "Pneumonia: 0.5603\n",
            "Pneumothorax: 0.1116\n",
            "Support Devices: 0.2553\n",
            "\n",
            "Image 4:\n",
            "----------------------------------------\n",
            "Filename: p13/p13881772/s50019396/1908e913-d3051cf7-34f98451-4ed66f58-15582c1d.jpg\n",
            "Pathology Predictions:\n",
            "Atelectasis: 0.7200\n",
            "Cardiomegaly: 0.4550\n",
            "Consolidation: 0.8222\n",
            "Edema: 0.4739\n",
            "Enlarged Cardiomediastinum: 0.5050\n",
            "Fracture: 0.5400\n",
            "Lung Lesion: 0.6403\n",
            "Lung Opacity: 0.7398\n",
            "No Finding: 0.0372\n",
            "Pleural Other: 0.7177\n",
            "Pleural Effusion: 0.9655\n",
            "Pneumonia: 0.6603\n",
            "Pneumothorax: 0.7391\n",
            "Support Devices: 0.3385\n",
            "\n",
            "Image 5:\n",
            "----------------------------------------\n",
            "Filename: p15/p15758946/s50020371/a767b7c0-6bdaee42-8ca0cd60-7b89ffb1-3bbbba27.jpg\n",
            "Pathology Predictions:\n",
            "Atelectasis: 0.3045\n",
            "Cardiomegaly: 0.1682\n",
            "Consolidation: 0.1254\n",
            "Edema: 0.0373\n",
            "Enlarged Cardiomediastinum: 0.6720\n",
            "Fracture: 0.4665\n",
            "Lung Lesion: 0.4297\n",
            "Lung Opacity: 0.3781\n",
            "No Finding: 0.6082\n",
            "Pleural Other: 0.2343\n",
            "Pleural Effusion: 0.2232\n",
            "Pneumonia: 0.2966\n",
            "Pneumothorax: 0.4822\n",
            "Support Devices: 0.5963\n"
          ]
        }
      ],
      "source": [
        "# Define a function to process predictions\n",
        "def generate_pathology_report(predicted_vals, labels):\n",
        "\n",
        "    all_predictions = []\n",
        "    \n",
        "    # Process each image prediction\n",
        "    for i in range(len(predicted_vals)):\n",
        "        # Get predictions for this image\n",
        "        prediction = predicted_vals[i]\n",
        "        \n",
        "        # Create dictionary mapping pathology names to probabilities\n",
        "        pathology_probs = {label: float(prob) for label, prob in zip(labels, prediction)}\n",
        "        \n",
        "        # Sort by probability (highest first)\n",
        "        sorted_probs = dict(sorted(pathology_probs.items(), key=lambda x: x[1], reverse=True))\n",
        "        \n",
        "        all_predictions.append(pathology_probs)\n",
        "    \n",
        "    return all_predictions\n",
        "\n",
        "# Get test image filenames\n",
        "test_filenames = test_generator.filenames if hasattr(test_generator, 'filenames') else None\n",
        "\n",
        "# Generate pathology reports\n",
        "pathology_reports = generate_pathology_report(predicted_vals, labels)\n",
        "\n",
        "# Display the predictions for the first 5 images\n",
        "for i, report in enumerate(pathology_reports[:5]):\n",
        "    print(f\"\\nImage {i+1}:\")\n",
        "    print(\"-\" * 40)\n",
        "    \n",
        "    if test_filenames:\n",
        "        print(f\"Filename: {test_filenames[i]}\")\n",
        "    \n",
        "    print(\"Pathology Predictions:\")\n",
        "    for pathology, probability in report.items():\n",
        "        # Only show probabilities above a threshold (e.g., 1%)\n",
        "        if probability > 0.01:\n",
        "            print(f\"{pathology}: {probability:.4f}\")"
      ]
    },
    {
      "cell_type": "code",
      "execution_count": 95,
      "metadata": {},
      "outputs": [
        {
          "data": {
            "text/plain": [
              "1824"
            ]
          },
          "execution_count": 95,
          "metadata": {},
          "output_type": "execute_result"
        }
      ],
      "source": [
        "len(pathology_reports)"
      ]
    },
    {
      "cell_type": "code",
      "execution_count": 105,
      "metadata": {},
      "outputs": [
        {
          "name": "stdout",
          "output_type": "stream",
          "text": [
            "\n",
            "Image 1:\n",
            "--------------------------------------------------\n",
            "Filename: p19/p19061282/s50010466/144f46e1-630ba5e3-82d84674-9f0575c5-6017bdd1.jpg\n",
            "\n",
            "True Labels:\n",
            "- No Finding\n",
            "\n",
            "Predicted Probabilities:\n",
            "- Lung Opacity: 0.5635\n",
            "- No Finding: 0.5209\n",
            "- Pneumonia: 0.5208\n",
            "- Enlarged Cardiomediastinum: 0.5096\n",
            "- Cardiomegaly: 0.4719\n",
            "- Lung Lesion: 0.4626\n",
            "- Fracture: 0.4287\n",
            "- Support Devices: 0.3659\n",
            "- Pleural Other: 0.3183\n",
            "- Consolidation: 0.2951\n",
            "- Atelectasis: 0.2659\n",
            "- Pneumothorax: 0.2437\n",
            "- Pleural Effusion: 0.1178\n",
            "- Edema: 0.1105\n",
            "\n",
            "Image 2:\n",
            "--------------------------------------------------\n",
            "Filename: p18/p18835687/s50014127/73da0836-553a87de-58ef0562-f9c31de6-c47927ac.jpg\n",
            "\n",
            "True Labels:\n",
            "- Lung Opacity\n",
            "\n",
            "Predicted Probabilities:\n",
            "- Enlarged Cardiomediastinum: 0.7545\n",
            "- No Finding: 0.6307\n",
            "- Support Devices: 0.5955\n",
            "- Lung Opacity: 0.5271\n",
            "- Pneumothorax: 0.5240\n",
            "- Fracture: 0.4283\n",
            "- Lung Lesion: 0.3943\n",
            "- Atelectasis: 0.3400\n",
            "- Pneumonia: 0.3033\n",
            "- Consolidation: 0.2269\n",
            "- Pleural Other: 0.2017\n",
            "- Cardiomegaly: 0.1577\n",
            "- Edema: 0.0953\n",
            "- Pleural Effusion: 0.0680\n",
            "\n",
            "Image 3:\n",
            "--------------------------------------------------\n",
            "Filename: p15/p15131736/s50016102/b57face8-df2c3c57-2a99e6b1-4919f774-c8c3e93c.jpg\n",
            "\n",
            "True Labels:\n",
            "- Cardiomegaly\n",
            "- Edema\n",
            "\n",
            "Predicted Probabilities:\n",
            "- Edema: 0.9597\n",
            "- Cardiomegaly: 0.9290\n",
            "- Pleural Effusion: 0.8086\n",
            "- Lung Opacity: 0.6738\n",
            "- Enlarged Cardiomediastinum: 0.6658\n",
            "- Consolidation: 0.6015\n",
            "- Pneumonia: 0.5603\n",
            "- Atelectasis: 0.5137\n",
            "- Pleural Other: 0.3307\n",
            "- Fracture: 0.3043\n",
            "- Support Devices: 0.2553\n",
            "- Lung Lesion: 0.1327\n",
            "- Pneumothorax: 0.1116\n",
            "- No Finding: 0.0384\n",
            "\n",
            "Image 4:\n",
            "--------------------------------------------------\n",
            "Filename: p13/p13881772/s50019396/1908e913-d3051cf7-34f98451-4ed66f58-15582c1d.jpg\n",
            "\n",
            "True Labels:\n",
            "- Pleural Effusion\n",
            "\n",
            "Predicted Probabilities:\n",
            "- Pleural Effusion: 0.9655\n",
            "- Consolidation: 0.8222\n",
            "- Lung Opacity: 0.7398\n",
            "- Pneumothorax: 0.7391\n",
            "- Atelectasis: 0.7200\n",
            "- Pleural Other: 0.7177\n",
            "- Pneumonia: 0.6603\n",
            "- Lung Lesion: 0.6403\n",
            "- Fracture: 0.5400\n",
            "- Enlarged Cardiomediastinum: 0.5050\n",
            "- Edema: 0.4739\n",
            "- Cardiomegaly: 0.4550\n",
            "- Support Devices: 0.3385\n",
            "- No Finding: 0.0372\n",
            "\n",
            "Image 5:\n",
            "--------------------------------------------------\n",
            "Filename: p15/p15758946/s50020371/a767b7c0-6bdaee42-8ca0cd60-7b89ffb1-3bbbba27.jpg\n",
            "\n",
            "True Labels:\n",
            "- No Finding\n",
            "\n",
            "Predicted Probabilities:\n",
            "- Enlarged Cardiomediastinum: 0.6720\n",
            "- No Finding: 0.6082\n",
            "- Support Devices: 0.5963\n",
            "- Pneumothorax: 0.4822\n",
            "- Fracture: 0.4665\n",
            "- Lung Lesion: 0.4297\n",
            "- Lung Opacity: 0.3781\n",
            "- Atelectasis: 0.3045\n",
            "- Pneumonia: 0.2966\n",
            "- Pleural Other: 0.2343\n",
            "- Pleural Effusion: 0.2232\n",
            "- Cardiomegaly: 0.1682\n",
            "- Consolidation: 0.1254\n",
            "- Edema: 0.0373\n"
          ]
        }
      ],
      "source": [
        "# Get true labels from test generator\n",
        "y_true = np.vstack([test_generator[i][1] for i in range(len(test_generator))])\n",
        "\n",
        "# Get test image filenames\n",
        "test_filenames = test_generator.filenames if hasattr(test_generator, 'filenames') else None\n",
        "\n",
        "# Display predictions and true labels for the first 5 images\n",
        "for i in range(5):  # Show first 5 images\n",
        "    print(f\"\\nImage {i+1}:\")\n",
        "    print(\"-\" * 50)\n",
        "    \n",
        "    if test_filenames:\n",
        "        print(f\"Filename: {test_filenames[i]}\")\n",
        "    \n",
        "    print(\"\\nTrue Labels:\")\n",
        "    for j, label in enumerate(labels):\n",
        "        if y_true[i][j] == 1:\n",
        "            print(f\"- {label}\")\n",
        "    \n",
        "    print(\"\\nPredicted Probabilities:\")\n",
        "    # Sort predictions by probability (highest first)\n",
        "    predictions = [(label, float(predicted_vals[i][j])) for j, label in enumerate(labels)]\n",
        "    sorted_predictions = sorted(predictions, key=lambda x: x[1], reverse=True)\n",
        "    \n",
        "    # Print top predictions (with probability > 1%)\n",
        "    for label, prob in sorted_predictions:\n",
        "        if prob > 0.01:\n",
        "            print(f\"- {label}: {prob:.4f}\")"
      ]
    },
    {
      "cell_type": "code",
      "execution_count": 106,
      "metadata": {},
      "outputs": [
        {
          "name": "stdout",
          "output_type": "stream",
          "text": [
            "Overall Accuracy: 0.6002\n",
            "\n",
            "Pathology-specific metrics:\n",
            "============================================================\n",
            "Pathology                 Accuracy   Precision  Recall     F1         AUC       \n",
            "------------------------------------------------------------\n",
            "Atelectasis               0.6924     0.2575     0.6508     0.3690     0.7479    \n",
            "Cardiomegaly              0.5636     0.2024     0.9615     0.3344     0.8488    \n",
            "Consolidation             0.5444     0.0709     0.7750     0.1298     0.7198    \n",
            "Edema                     0.7023     0.3747     0.9284     0.5339     0.8863    \n",
            "Enlarged Cardiomediastinum 0.1157     0.0141     1.0000     0.0277     0.7587    \n",
            "Fracture                  0.7023     0.0330     0.5294     0.0622     0.6087    \n",
            "Lung Lesion               0.6831     0.0634     0.5441     0.1135     0.6865    \n",
            "Lung Opacity              0.4945     0.3170     0.8736     0.4652     0.7047    \n",
            "No Finding                0.7812     0.6111     0.5333     0.5696     0.8058    \n",
            "Pleural Other             0.5071     0.0303     0.8750     0.0586     0.7457    \n",
            "Pleural Effusion          0.7500     0.4696     0.8443     0.6035     0.8822    \n",
            "Pneumonia                 0.6053     0.1669     0.7459     0.2727     0.7458    \n",
            "Pneumothorax              0.6239     0.0474     0.9444     0.0902     0.8703    \n",
            "Support Devices           0.6371     0.2151     0.8657     0.3446     0.8240    \n"
          ]
        }
      ],
      "source": [
        "import numpy as np\n",
        "from sklearn.metrics import accuracy_score, precision_score, recall_score, f1_score, roc_auc_score, confusion_matrix\n",
        "\n",
        "def evaluate_model_performance(predicted_vals, test_generator, labels):\n",
        "    # Extract the true labels from test generator\n",
        "    y_true = np.vstack([test_generator[i][1] for i in range(len(test_generator))])\n",
        "    \n",
        "    # Convert predictions to binary (0/1) using 0.5 threshold\n",
        "    y_pred_binary = (predicted_vals >= 0.5).astype(int)\n",
        "    \n",
        "    # Store metrics for each pathology\n",
        "    results = {}\n",
        "    \n",
        "    # Calculate overall accuracy\n",
        "    overall_accuracy = accuracy_score(y_true.flatten(), y_pred_binary.flatten())\n",
        "    results['overall_accuracy'] = overall_accuracy\n",
        "    \n",
        "    print(f\"Overall Accuracy: {overall_accuracy:.4f}\")\n",
        "    print(\"\\nPathology-specific metrics:\")\n",
        "    print(\"=\" * 60)\n",
        "    print(f\"{'Pathology':<25} {'Accuracy':<10} {'Precision':<10} {'Recall':<10} {'F1':<10} {'AUC':<10}\")\n",
        "    print(\"-\" * 60)\n",
        "    \n",
        "    # Calculate metrics for each pathology\n",
        "    for i, label in enumerate(labels):\n",
        "        # Extract true and predicted values for this pathology\n",
        "        true_label = y_true[:, i]\n",
        "        pred_prob = predicted_vals[:, i]\n",
        "        pred_binary = y_pred_binary[:, i]\n",
        "        \n",
        "        # Calculate metrics\n",
        "        accuracy = accuracy_score(true_label, pred_binary)\n",
        "        precision = precision_score(true_label, pred_binary, zero_division=0)\n",
        "        recall = recall_score(true_label, pred_binary, zero_division=0)\n",
        "        f1 = f1_score(true_label, pred_binary, zero_division=0)\n",
        "        \n",
        "        # Calculate AUC only if there are both positive and negative samples\n",
        "        if len(np.unique(true_label)) > 1:\n",
        "            auc = roc_auc_score(true_label, pred_prob)\n",
        "        else:\n",
        "            auc = float('nan')\n",
        "        \n",
        "        # Store results\n",
        "        results[label] = {\n",
        "            'accuracy': accuracy,\n",
        "            'precision': precision,\n",
        "            'recall': recall,\n",
        "            'f1': f1,\n",
        "            'auc': auc\n",
        "        }\n",
        "        \n",
        "        # Print results\n",
        "        print(f\"{label:<25} {accuracy:<10.4f} {precision:<10.4f} {recall:<10.4f} {f1:<10.4f} {auc:<10.4f}\")\n",
        "    \n",
        "    return results\n",
        "\n",
        "# Evaluate model performance\n",
        "performance_metrics = evaluate_model_performance(predicted_vals, test_generator, labels)"
      ]
    },
    {
      "cell_type": "code",
      "execution_count": 107,
      "metadata": {
        "colab": {
          "base_uri": "https://localhost:8080/",
          "height": 621
        },
        "id": "6SLI8FHun5yw",
        "outputId": "696bb01d-2747-4c3a-843d-c3c0e05157a7",
        "scrolled": true
      },
      "outputs": [
        {
          "data": {
            "image/png": "[encoded data removed]",
            "text/plain": [
              "<Figure size 720x720 with 1 Axes>"
            ]
          },
          "metadata": {
            "needs_background": "light"
          },
          "output_type": "display_data"
        }
      ],
      "source": [
        "auc_rocs = util.get_roc_curve(labels, predicted_vals, test_generator)"
      ]
    },
    {
      "cell_type": "markdown",
      "metadata": {
        "id": "zWZkl01ruZ7P"
      },
      "source": []
    },
    {
      "cell_type": "markdown",
      "metadata": {
        "id": "G5aZAlVbn5yz"
      },
      "source": []
    },
    {
      "cell_type": "markdown",
      "metadata": {
        "id": "gu9ExySryY6u"
      },
      "source": []
    },
    {
      "cell_type": "markdown",
      "metadata": {
        "id": "0RC8xiBEIws_"
      },
      "source": []
    },
    {
      "cell_type": "code",
      "execution_count": 108,
      "metadata": {
        "id": "6kahoZbJn5yz",
        "scrolled": true
      },
      "outputs": [],
      "source": [
        "#df = pd.read_csv(\"preprocessed_dataset/train-small.csv\")\n",
        "#IMAGE_DIR = \"preprocessed_dataset/images-small/\"\n",
        "\n",
        "# only show the labels with top 4 AUC\n",
        "#labels_to_show = np.take(labels, np.argsort(auc_rocs)[::-1])[:4]"
      ]
    },
    {
      "cell_type": "markdown",
      "metadata": {
        "id": "LfoGkcYcIwtK"
      },
      "source": [
        "Now let's look at a few specific images."
      ]
    },
    {
      "cell_type": "code",
      "execution_count": 109,
      "metadata": {
        "id": "livysh-UIwtM",
        "outputId": "4048ff80-096c-46e7-e43f-3263aa802b2b",
        "scrolled": true
      },
      "outputs": [],
      "source": [
        "#util.compute_gradcam(model, '00008270_015.png', IMAGE_DIR, df, labels, labels_to_show)"
      ]
    },
    {
      "cell_type": "code",
      "execution_count": 110,
      "metadata": {
        "id": "JC2zy1Kpn5y1",
        "outputId": "9e38a769-e19d-4143-da41-db7a3173a533"
      },
      "outputs": [],
      "source": [
        "#util.compute_gradcam(model, '00011355_002.png', IMAGE_DIR, df, labels, labels_to_show)"
      ]
    },
    {
      "cell_type": "code",
      "execution_count": 111,
      "metadata": {
        "id": "zCHVaLMQn5y2",
        "outputId": "57246709-2662-4590-9198-a412d2f1eea2",
        "scrolled": true
      },
      "outputs": [],
      "source": [
        "#util.compute_gradcam(model, '00029855_001.png', IMAGE_DIR, df, labels, labels_to_show)"
      ]
    },
    {
      "cell_type": "code",
      "execution_count": 112,
      "metadata": {
        "id": "gGwL8FcFn5y4",
        "outputId": "681fb2de-194c-465e-c989-133f334b8299"
      },
      "outputs": [],
      "source": [
        "#util.compute_gradcam(model, '00005410_000.png', IMAGE_DIR, df, labels, labels_to_show)"
      ]
    },
    {
      "cell_type": "markdown",
      "metadata": {
        "id": "f_aVmAwwIwtl"
      },
      "source": []
    },
    {
      "cell_type": "code",
      "execution_count": 113,
      "metadata": {},
      "outputs": [
        {
          "data": {
            "text/html": [
              "<div>\n",
              "<style scoped>\n",
              "    .dataframe tbody tr th:only-of-type {\n",
              "        vertical-align: middle;\n",
              "    }\n",
              "\n",
              "    .dataframe tbody tr th {\n",
              "        vertical-align: top;\n",
              "    }\n",
              "\n",
              "    .dataframe thead th {\n",
              "        text-align: right;\n",
              "    }\n",
              "</style>\n",
              "<table border=\"1\" class=\"dataframe\">\n",
              "  <thead>\n",
              "    <tr style=\"text-align: right;\">\n",
              "      <th></th>\n",
              "      <th>dicon_id</th>\n",
              "      <th>subject_id</th>\n",
              "      <th>study_id</th>\n",
              "      <th>Atelectasis</th>\n",
              "      <th>Cardiomegaly</th>\n",
              "      <th>Consolidation</th>\n",
              "      <th>Edema</th>\n",
              "      <th>Enlarged Cardiomediastinum</th>\n",
              "      <th>Fracture</th>\n",
              "      <th>Lung Lesion</th>\n",
              "      <th>Lung Opacity</th>\n",
              "      <th>No Finding</th>\n",
              "      <th>Pleural Effusion</th>\n",
              "      <th>Pleural Other</th>\n",
              "      <th>Pneumonia</th>\n",
              "      <th>Pneumothorax</th>\n",
              "      <th>Support Devices</th>\n",
              "      <th>Image</th>\n",
              "    </tr>\n",
              "  </thead>\n",
              "  <tbody>\n",
              "    <tr>\n",
              "      <th>0</th>\n",
              "      <td>144f46e1-630ba5e3-82d84674-9f0575c5-6017bdd1</td>\n",
              "      <td>19061282</td>\n",
              "      <td>50010466</td>\n",
              "      <td>0</td>\n",
              "      <td>0</td>\n",
              "      <td>0</td>\n",
              "      <td>0</td>\n",
              "      <td>0</td>\n",
              "      <td>0</td>\n",
              "      <td>0</td>\n",
              "      <td>0</td>\n",
              "      <td>1</td>\n",
              "      <td>0</td>\n",
              "      <td>0</td>\n",
              "      <td>0</td>\n",
              "      <td>0</td>\n",
              "      <td>0</td>\n",
              "      <td>p19/p19061282/s50010466/144f46e1-630ba5e3-82d8...</td>\n",
              "    </tr>\n",
              "    <tr>\n",
              "      <th>1</th>\n",
              "      <td>73da0836-553a87de-58ef0562-f9c31de6-c47927ac</td>\n",
              "      <td>18835687</td>\n",
              "      <td>50014127</td>\n",
              "      <td>0</td>\n",
              "      <td>0</td>\n",
              "      <td>0</td>\n",
              "      <td>0</td>\n",
              "      <td>0</td>\n",
              "      <td>0</td>\n",
              "      <td>0</td>\n",
              "      <td>1</td>\n",
              "      <td>0</td>\n",
              "      <td>0</td>\n",
              "      <td>0</td>\n",
              "      <td>0</td>\n",
              "      <td>0</td>\n",
              "      <td>0</td>\n",
              "      <td>p18/p18835687/s50014127/73da0836-553a87de-58ef...</td>\n",
              "    </tr>\n",
              "    <tr>\n",
              "      <th>2</th>\n",
              "      <td>b57face8-df2c3c57-2a99e6b1-4919f774-c8c3e93c</td>\n",
              "      <td>15131736</td>\n",
              "      <td>50016102</td>\n",
              "      <td>0</td>\n",
              "      <td>1</td>\n",
              "      <td>0</td>\n",
              "      <td>1</td>\n",
              "      <td>0</td>\n",
              "      <td>0</td>\n",
              "      <td>0</td>\n",
              "      <td>0</td>\n",
              "      <td>0</td>\n",
              "      <td>0</td>\n",
              "      <td>0</td>\n",
              "      <td>0</td>\n",
              "      <td>0</td>\n",
              "      <td>0</td>\n",
              "      <td>p15/p15131736/s50016102/b57face8-df2c3c57-2a99...</td>\n",
              "    </tr>\n",
              "    <tr>\n",
              "      <th>3</th>\n",
              "      <td>1908e913-d3051cf7-34f98451-4ed66f58-15582c1d</td>\n",
              "      <td>13881772</td>\n",
              "      <td>50019396</td>\n",
              "      <td>0</td>\n",
              "      <td>0</td>\n",
              "      <td>0</td>\n",
              "      <td>0</td>\n",
              "      <td>0</td>\n",
              "      <td>0</td>\n",
              "      <td>0</td>\n",
              "      <td>0</td>\n",
              "      <td>0</td>\n",
              "      <td>1</td>\n",
              "      <td>0</td>\n",
              "      <td>0</td>\n",
              "      <td>0</td>\n",
              "      <td>0</td>\n",
              "      <td>p13/p13881772/s50019396/1908e913-d3051cf7-34f9...</td>\n",
              "    </tr>\n",
              "    <tr>\n",
              "      <th>4</th>\n",
              "      <td>a767b7c0-6bdaee42-8ca0cd60-7b89ffb1-3bbbba27</td>\n",
              "      <td>15758946</td>\n",
              "      <td>50020371</td>\n",
              "      <td>0</td>\n",
              "      <td>0</td>\n",
              "      <td>0</td>\n",
              "      <td>0</td>\n",
              "      <td>0</td>\n",
              "      <td>0</td>\n",
              "      <td>0</td>\n",
              "      <td>0</td>\n",
              "      <td>1</td>\n",
              "      <td>0</td>\n",
              "      <td>0</td>\n",
              "      <td>0</td>\n",
              "      <td>0</td>\n",
              "      <td>0</td>\n",
              "      <td>p15/p15758946/s50020371/a767b7c0-6bdaee42-8ca0...</td>\n",
              "    </tr>\n",
              "    <tr>\n",
              "      <th>...</th>\n",
              "      <td>...</td>\n",
              "      <td>...</td>\n",
              "      <td>...</td>\n",
              "      <td>...</td>\n",
              "      <td>...</td>\n",
              "      <td>...</td>\n",
              "      <td>...</td>\n",
              "      <td>...</td>\n",
              "      <td>...</td>\n",
              "      <td>...</td>\n",
              "      <td>...</td>\n",
              "      <td>...</td>\n",
              "      <td>...</td>\n",
              "      <td>...</td>\n",
              "      <td>...</td>\n",
              "      <td>...</td>\n",
              "      <td>...</td>\n",
              "      <td>...</td>\n",
              "    </tr>\n",
              "    <tr>\n",
              "      <th>1819</th>\n",
              "      <td>3470d736-53ab4170-ab83b760-57a5b839-c7302405</td>\n",
              "      <td>11212873</td>\n",
              "      <td>59983953</td>\n",
              "      <td>1</td>\n",
              "      <td>0</td>\n",
              "      <td>0</td>\n",
              "      <td>0</td>\n",
              "      <td>0</td>\n",
              "      <td>0</td>\n",
              "      <td>0</td>\n",
              "      <td>0</td>\n",
              "      <td>0</td>\n",
              "      <td>0</td>\n",
              "      <td>0</td>\n",
              "      <td>0</td>\n",
              "      <td>0</td>\n",
              "      <td>1</td>\n",
              "      <td>p11/p11212873/s59983953/3470d736-53ab4170-ab83...</td>\n",
              "    </tr>\n",
              "    <tr>\n",
              "      <th>1820</th>\n",
              "      <td>87f64c4d-93ab83e7-04f10c4b-a9ed71f7-d05889f2</td>\n",
              "      <td>19759491</td>\n",
              "      <td>59984376</td>\n",
              "      <td>0</td>\n",
              "      <td>0</td>\n",
              "      <td>0</td>\n",
              "      <td>1</td>\n",
              "      <td>0</td>\n",
              "      <td>0</td>\n",
              "      <td>0</td>\n",
              "      <td>0</td>\n",
              "      <td>0</td>\n",
              "      <td>1</td>\n",
              "      <td>0</td>\n",
              "      <td>1</td>\n",
              "      <td>0</td>\n",
              "      <td>0</td>\n",
              "      <td>p19/p19759491/s59984376/87f64c4d-93ab83e7-04f1...</td>\n",
              "    </tr>\n",
              "    <tr>\n",
              "      <th>1821</th>\n",
              "      <td>417d5c5e-b521f965-35306684-68e7deb2-cda06f5c</td>\n",
              "      <td>12369221</td>\n",
              "      <td>59986698</td>\n",
              "      <td>0</td>\n",
              "      <td>0</td>\n",
              "      <td>0</td>\n",
              "      <td>0</td>\n",
              "      <td>0</td>\n",
              "      <td>0</td>\n",
              "      <td>0</td>\n",
              "      <td>0</td>\n",
              "      <td>1</td>\n",
              "      <td>0</td>\n",
              "      <td>0</td>\n",
              "      <td>0</td>\n",
              "      <td>0</td>\n",
              "      <td>0</td>\n",
              "      <td>p12/p12369221/s59986698/417d5c5e-b521f965-3530...</td>\n",
              "    </tr>\n",
              "    <tr>\n",
              "      <th>1822</th>\n",
              "      <td>2d5f73c2-9a6138e2-d33b6539-067b7734-2b55b088</td>\n",
              "      <td>15370732</td>\n",
              "      <td>59990602</td>\n",
              "      <td>0</td>\n",
              "      <td>0</td>\n",
              "      <td>0</td>\n",
              "      <td>0</td>\n",
              "      <td>0</td>\n",
              "      <td>0</td>\n",
              "      <td>0</td>\n",
              "      <td>0</td>\n",
              "      <td>1</td>\n",
              "      <td>0</td>\n",
              "      <td>0</td>\n",
              "      <td>0</td>\n",
              "      <td>0</td>\n",
              "      <td>0</td>\n",
              "      <td>p15/p15370732/s59990602/2d5f73c2-9a6138e2-d33b...</td>\n",
              "    </tr>\n",
              "    <tr>\n",
              "      <th>1823</th>\n",
              "      <td>fb713bef-44a802dc-179def5b-4baaedb7-991610c2</td>\n",
              "      <td>15518538</td>\n",
              "      <td>59999362</td>\n",
              "      <td>0</td>\n",
              "      <td>0</td>\n",
              "      <td>0</td>\n",
              "      <td>0</td>\n",
              "      <td>0</td>\n",
              "      <td>0</td>\n",
              "      <td>0</td>\n",
              "      <td>0</td>\n",
              "      <td>1</td>\n",
              "      <td>0</td>\n",
              "      <td>0</td>\n",
              "      <td>0</td>\n",
              "      <td>0</td>\n",
              "      <td>0</td>\n",
              "      <td>p15/p15518538/s59999362/fb713bef-44a802dc-179d...</td>\n",
              "    </tr>\n",
              "  </tbody>\n",
              "</table>\n",
              "<p>1824 rows × 18 columns</p>\n",
              "</div>"
            ],
            "text/plain": [
              "                                          dicon_id  subject_id  study_id  \\\n",
              "0     144f46e1-630ba5e3-82d84674-9f0575c5-6017bdd1    19061282  50010466   \n",
              "1     73da0836-553a87de-58ef0562-f9c31de6-c47927ac    18835687  50014127   \n",
              "2     b57face8-df2c3c57-2a99e6b1-4919f774-c8c3e93c    15131736  50016102   \n",
              "3     1908e913-d3051cf7-34f98451-4ed66f58-15582c1d    13881772  50019396   \n",
              "4     a767b7c0-6bdaee42-8ca0cd60-7b89ffb1-3bbbba27    15758946  50020371   \n",
              "...                                            ...         ...       ...   \n",
              "1819  3470d736-53ab4170-ab83b760-57a5b839-c7302405    11212873  59983953   \n",
              "1820  87f64c4d-93ab83e7-04f10c4b-a9ed71f7-d05889f2    19759491  59984376   \n",
              "1821  417d5c5e-b521f965-35306684-68e7deb2-cda06f5c    12369221  59986698   \n",
              "1822  2d5f73c2-9a6138e2-d33b6539-067b7734-2b55b088    15370732  59990602   \n",
              "1823  fb713bef-44a802dc-179def5b-4baaedb7-991610c2    15518538  59999362   \n",
              "\n",
              "      Atelectasis  Cardiomegaly  Consolidation  Edema  \\\n",
              "0               0             0              0      0   \n",
              "1               0             0              0      0   \n",
              "2               0             1              0      1   \n",
              "3               0             0              0      0   \n",
              "4               0             0              0      0   \n",
              "...           ...           ...            ...    ...   \n",
              "1819            1             0              0      0   \n",
              "1820            0             0              0      1   \n",
              "1821            0             0              0      0   \n",
              "1822            0             0              0      0   \n",
              "1823            0             0              0      0   \n",
              "\n",
              "      Enlarged Cardiomediastinum  Fracture  Lung Lesion  Lung Opacity  \\\n",
              "0                              0         0            0             0   \n",
              "1                              0         0            0             1   \n",
              "2                              0         0            0             0   \n",
              "3                              0         0            0             0   \n",
              "4                              0         0            0             0   \n",
              "...                          ...       ...          ...           ...   \n",
              "1819                           0         0            0             0   \n",
              "1820                           0         0            0             0   \n",
              "1821                           0         0            0             0   \n",
              "1822                           0         0            0             0   \n",
              "1823                           0         0            0             0   \n",
              "\n",
              "      No Finding  Pleural Effusion  Pleural Other  Pneumonia  Pneumothorax  \\\n",
              "0              1                 0              0          0             0   \n",
              "1              0                 0              0          0             0   \n",
              "2              0                 0              0          0             0   \n",
              "3              0                 1              0          0             0   \n",
              "4              1                 0              0          0             0   \n",
              "...          ...               ...            ...        ...           ...   \n",
              "1819           0                 0              0          0             0   \n",
              "1820           0                 1              0          1             0   \n",
              "1821           1                 0              0          0             0   \n",
              "1822           1                 0              0          0             0   \n",
              "1823           1                 0              0          0             0   \n",
              "\n",
              "      Support Devices                                              Image  \n",
              "0                   0  p19/p19061282/s50010466/144f46e1-630ba5e3-82d8...  \n",
              "1                   0  p18/p18835687/s50014127/73da0836-553a87de-58ef...  \n",
              "2                   0  p15/p15131736/s50016102/b57face8-df2c3c57-2a99...  \n",
              "3                   0  p13/p13881772/s50019396/1908e913-d3051cf7-34f9...  \n",
              "4                   0  p15/p15758946/s50020371/a767b7c0-6bdaee42-8ca0...  \n",
              "...               ...                                                ...  \n",
              "1819                1  p11/p11212873/s59983953/3470d736-53ab4170-ab83...  \n",
              "1820                0  p19/p19759491/s59984376/87f64c4d-93ab83e7-04f1...  \n",
              "1821                0  p12/p12369221/s59986698/417d5c5e-b521f965-3530...  \n",
              "1822                0  p15/p15370732/s59990602/2d5f73c2-9a6138e2-d33b...  \n",
              "1823                0  p15/p15518538/s59999362/fb713bef-44a802dc-179d...  \n",
              "\n",
              "[1824 rows x 18 columns]"
            ]
          },
          "execution_count": 113,
          "metadata": {},
          "output_type": "execute_result"
        }
      ],
      "source": [
        "test_df"
      ]
    },
    {
      "cell_type": "code",
      "execution_count": 114,
      "metadata": {},
      "outputs": [
        {
          "data": {
            "text/html": [
              "<div>\n",
              "<style scoped>\n",
              "    .dataframe tbody tr th:only-of-type {\n",
              "        vertical-align: middle;\n",
              "    }\n",
              "\n",
              "    .dataframe tbody tr th {\n",
              "        vertical-align: top;\n",
              "    }\n",
              "\n",
              "    .dataframe thead th {\n",
              "        text-align: right;\n",
              "    }\n",
              "</style>\n",
              "<table border=\"1\" class=\"dataframe\">\n",
              "  <thead>\n",
              "    <tr style=\"text-align: right;\">\n",
              "      <th></th>\n",
              "      <th>subject_id</th>\n",
              "      <th>study_id</th>\n",
              "      <th>Atelectasis</th>\n",
              "      <th>Cardiomegaly</th>\n",
              "      <th>Consolidation</th>\n",
              "      <th>Edema</th>\n",
              "      <th>Enlarged Cardiomediastinum</th>\n",
              "      <th>Fracture</th>\n",
              "      <th>Lung Lesion</th>\n",
              "      <th>Lung Opacity</th>\n",
              "      <th>No Finding</th>\n",
              "      <th>Pleural Effusion</th>\n",
              "      <th>Pleural Other</th>\n",
              "      <th>Pneumonia</th>\n",
              "      <th>Pneumothorax</th>\n",
              "      <th>Support Devices</th>\n",
              "    </tr>\n",
              "  </thead>\n",
              "  <tbody>\n",
              "    <tr>\n",
              "      <th>0</th>\n",
              "      <td>10000032</td>\n",
              "      <td>50414267</td>\n",
              "      <td>NaN</td>\n",
              "      <td>NaN</td>\n",
              "      <td>NaN</td>\n",
              "      <td>NaN</td>\n",
              "      <td>NaN</td>\n",
              "      <td>NaN</td>\n",
              "      <td>NaN</td>\n",
              "      <td>NaN</td>\n",
              "      <td>1.0</td>\n",
              "      <td>NaN</td>\n",
              "      <td>NaN</td>\n",
              "      <td>NaN</td>\n",
              "      <td>NaN</td>\n",
              "      <td>NaN</td>\n",
              "    </tr>\n",
              "    <tr>\n",
              "      <th>1</th>\n",
              "      <td>10000032</td>\n",
              "      <td>53189527</td>\n",
              "      <td>NaN</td>\n",
              "      <td>NaN</td>\n",
              "      <td>NaN</td>\n",
              "      <td>NaN</td>\n",
              "      <td>NaN</td>\n",
              "      <td>NaN</td>\n",
              "      <td>NaN</td>\n",
              "      <td>NaN</td>\n",
              "      <td>1.0</td>\n",
              "      <td>NaN</td>\n",
              "      <td>NaN</td>\n",
              "      <td>NaN</td>\n",
              "      <td>NaN</td>\n",
              "      <td>NaN</td>\n",
              "    </tr>\n",
              "    <tr>\n",
              "      <th>2</th>\n",
              "      <td>10000032</td>\n",
              "      <td>53911762</td>\n",
              "      <td>NaN</td>\n",
              "      <td>NaN</td>\n",
              "      <td>NaN</td>\n",
              "      <td>NaN</td>\n",
              "      <td>NaN</td>\n",
              "      <td>NaN</td>\n",
              "      <td>NaN</td>\n",
              "      <td>NaN</td>\n",
              "      <td>1.0</td>\n",
              "      <td>NaN</td>\n",
              "      <td>NaN</td>\n",
              "      <td>NaN</td>\n",
              "      <td>NaN</td>\n",
              "      <td>NaN</td>\n",
              "    </tr>\n",
              "    <tr>\n",
              "      <th>3</th>\n",
              "      <td>10000032</td>\n",
              "      <td>56699142</td>\n",
              "      <td>NaN</td>\n",
              "      <td>NaN</td>\n",
              "      <td>NaN</td>\n",
              "      <td>NaN</td>\n",
              "      <td>NaN</td>\n",
              "      <td>NaN</td>\n",
              "      <td>NaN</td>\n",
              "      <td>NaN</td>\n",
              "      <td>1.0</td>\n",
              "      <td>NaN</td>\n",
              "      <td>NaN</td>\n",
              "      <td>NaN</td>\n",
              "      <td>NaN</td>\n",
              "      <td>NaN</td>\n",
              "    </tr>\n",
              "    <tr>\n",
              "      <th>4</th>\n",
              "      <td>10000764</td>\n",
              "      <td>57375967</td>\n",
              "      <td>NaN</td>\n",
              "      <td>NaN</td>\n",
              "      <td>1.0</td>\n",
              "      <td>NaN</td>\n",
              "      <td>NaN</td>\n",
              "      <td>NaN</td>\n",
              "      <td>NaN</td>\n",
              "      <td>NaN</td>\n",
              "      <td>NaN</td>\n",
              "      <td>NaN</td>\n",
              "      <td>NaN</td>\n",
              "      <td>-1.0</td>\n",
              "      <td>NaN</td>\n",
              "      <td>NaN</td>\n",
              "    </tr>\n",
              "    <tr>\n",
              "      <th>...</th>\n",
              "      <td>...</td>\n",
              "      <td>...</td>\n",
              "      <td>...</td>\n",
              "      <td>...</td>\n",
              "      <td>...</td>\n",
              "      <td>...</td>\n",
              "      <td>...</td>\n",
              "      <td>...</td>\n",
              "      <td>...</td>\n",
              "      <td>...</td>\n",
              "      <td>...</td>\n",
              "      <td>...</td>\n",
              "      <td>...</td>\n",
              "      <td>...</td>\n",
              "      <td>...</td>\n",
              "      <td>...</td>\n",
              "    </tr>\n",
              "    <tr>\n",
              "      <th>227822</th>\n",
              "      <td>19999442</td>\n",
              "      <td>58708861</td>\n",
              "      <td>NaN</td>\n",
              "      <td>NaN</td>\n",
              "      <td>NaN</td>\n",
              "      <td>NaN</td>\n",
              "      <td>NaN</td>\n",
              "      <td>NaN</td>\n",
              "      <td>NaN</td>\n",
              "      <td>NaN</td>\n",
              "      <td>1.0</td>\n",
              "      <td>NaN</td>\n",
              "      <td>NaN</td>\n",
              "      <td>NaN</td>\n",
              "      <td>NaN</td>\n",
              "      <td>1.0</td>\n",
              "    </tr>\n",
              "    <tr>\n",
              "      <th>227823</th>\n",
              "      <td>19999733</td>\n",
              "      <td>57132437</td>\n",
              "      <td>NaN</td>\n",
              "      <td>NaN</td>\n",
              "      <td>NaN</td>\n",
              "      <td>NaN</td>\n",
              "      <td>NaN</td>\n",
              "      <td>NaN</td>\n",
              "      <td>NaN</td>\n",
              "      <td>NaN</td>\n",
              "      <td>1.0</td>\n",
              "      <td>NaN</td>\n",
              "      <td>NaN</td>\n",
              "      <td>NaN</td>\n",
              "      <td>NaN</td>\n",
              "      <td>NaN</td>\n",
              "    </tr>\n",
              "    <tr>\n",
              "      <th>227824</th>\n",
              "      <td>19999987</td>\n",
              "      <td>55368167</td>\n",
              "      <td>1.0</td>\n",
              "      <td>-1.0</td>\n",
              "      <td>NaN</td>\n",
              "      <td>NaN</td>\n",
              "      <td>NaN</td>\n",
              "      <td>NaN</td>\n",
              "      <td>0.0</td>\n",
              "      <td>NaN</td>\n",
              "      <td>NaN</td>\n",
              "      <td>0.0</td>\n",
              "      <td>NaN</td>\n",
              "      <td>NaN</td>\n",
              "      <td>0.0</td>\n",
              "      <td>NaN</td>\n",
              "    </tr>\n",
              "    <tr>\n",
              "      <th>227825</th>\n",
              "      <td>19999987</td>\n",
              "      <td>58621812</td>\n",
              "      <td>1.0</td>\n",
              "      <td>NaN</td>\n",
              "      <td>NaN</td>\n",
              "      <td>NaN</td>\n",
              "      <td>NaN</td>\n",
              "      <td>NaN</td>\n",
              "      <td>NaN</td>\n",
              "      <td>NaN</td>\n",
              "      <td>NaN</td>\n",
              "      <td>NaN</td>\n",
              "      <td>NaN</td>\n",
              "      <td>NaN</td>\n",
              "      <td>NaN</td>\n",
              "      <td>1.0</td>\n",
              "    </tr>\n",
              "    <tr>\n",
              "      <th>227826</th>\n",
              "      <td>19999987</td>\n",
              "      <td>58971208</td>\n",
              "      <td>1.0</td>\n",
              "      <td>NaN</td>\n",
              "      <td>NaN</td>\n",
              "      <td>NaN</td>\n",
              "      <td>NaN</td>\n",
              "      <td>NaN</td>\n",
              "      <td>NaN</td>\n",
              "      <td>NaN</td>\n",
              "      <td>NaN</td>\n",
              "      <td>NaN</td>\n",
              "      <td>NaN</td>\n",
              "      <td>NaN</td>\n",
              "      <td>NaN</td>\n",
              "      <td>NaN</td>\n",
              "    </tr>\n",
              "  </tbody>\n",
              "</table>\n",
              "<p>227827 rows × 16 columns</p>\n",
              "</div>"
            ],
            "text/plain": [
              "        subject_id  study_id  Atelectasis  Cardiomegaly  Consolidation  Edema  \\\n",
              "0         10000032  50414267          NaN           NaN            NaN    NaN   \n",
              "1         10000032  53189527          NaN           NaN            NaN    NaN   \n",
              "2         10000032  53911762          NaN           NaN            NaN    NaN   \n",
              "3         10000032  56699142          NaN           NaN            NaN    NaN   \n",
              "4         10000764  57375967          NaN           NaN            1.0    NaN   \n",
              "...            ...       ...          ...           ...            ...    ...   \n",
              "227822    19999442  58708861          NaN           NaN            NaN    NaN   \n",
              "227823    19999733  57132437          NaN           NaN            NaN    NaN   \n",
              "227824    19999987  55368167          1.0          -1.0            NaN    NaN   \n",
              "227825    19999987  58621812          1.0           NaN            NaN    NaN   \n",
              "227826    19999987  58971208          1.0           NaN            NaN    NaN   \n",
              "\n",
              "        Enlarged Cardiomediastinum  Fracture  Lung Lesion  Lung Opacity  \\\n",
              "0                              NaN       NaN          NaN           NaN   \n",
              "1                              NaN       NaN          NaN           NaN   \n",
              "2                              NaN       NaN          NaN           NaN   \n",
              "3                              NaN       NaN          NaN           NaN   \n",
              "4                              NaN       NaN          NaN           NaN   \n",
              "...                            ...       ...          ...           ...   \n",
              "227822                         NaN       NaN          NaN           NaN   \n",
              "227823                         NaN       NaN          NaN           NaN   \n",
              "227824                         NaN       NaN          0.0           NaN   \n",
              "227825                         NaN       NaN          NaN           NaN   \n",
              "227826                         NaN       NaN          NaN           NaN   \n",
              "\n",
              "        No Finding  Pleural Effusion  Pleural Other  Pneumonia  Pneumothorax  \\\n",
              "0              1.0               NaN            NaN        NaN           NaN   \n",
              "1              1.0               NaN            NaN        NaN           NaN   \n",
              "2              1.0               NaN            NaN        NaN           NaN   \n",
              "3              1.0               NaN            NaN        NaN           NaN   \n",
              "4              NaN               NaN            NaN       -1.0           NaN   \n",
              "...            ...               ...            ...        ...           ...   \n",
              "227822         1.0               NaN            NaN        NaN           NaN   \n",
              "227823         1.0               NaN            NaN        NaN           NaN   \n",
              "227824         NaN               0.0            NaN        NaN           0.0   \n",
              "227825         NaN               NaN            NaN        NaN           NaN   \n",
              "227826         NaN               NaN            NaN        NaN           NaN   \n",
              "\n",
              "        Support Devices  \n",
              "0                   NaN  \n",
              "1                   NaN  \n",
              "2                   NaN  \n",
              "3                   NaN  \n",
              "4                   NaN  \n",
              "...                 ...  \n",
              "227822              1.0  \n",
              "227823              NaN  \n",
              "227824              NaN  \n",
              "227825              1.0  \n",
              "227826              NaN  \n",
              "\n",
              "[227827 rows x 16 columns]"
            ]
          },
          "execution_count": 114,
          "metadata": {},
          "output_type": "execute_result"
        }
      ],
      "source": [
        "\n",
        "labels_df = pd.read_csv(\"mimic-cxr-2.0.0-chexpert.csv\")\n",
        "\n",
        "labels_df['study_id'] = labels_df['study_id'].astype(str)\n",
        "labels_df"
      ]
    },
    {
      "cell_type": "code",
      "execution_count": 115,
      "metadata": {},
      "outputs": [],
      "source": [
        "import pandas as pd\n",
        "\n",
        "# Define the specific order for pathologies\n",
        "ordered_pathologies = [\n",
        "    'Atelectasis', 'Cardiomegaly', 'Consolidation', 'Edema', \n",
        "    'Enlarged Cardiomediastinum', 'Fracture', 'Lung Lesion', 'Lung Opacity',\n",
        "    'No Finding', 'Pleural Other', 'Pleural Effusion',\n",
        "    'Pneumonia', 'Pneumothorax', 'Support Devices'\n",
        "]\n",
        "\n",
        "# Create empty DataFrame with desired columns\n",
        "results_df = pd.DataFrame(columns=['subject_id', 'study_id', 'classification_result'])\n",
        "\n",
        "# Process each prediction\n",
        "for i, report in enumerate(pathology_reports):\n",
        "    # Skip if we don't have filenames or we're past the available filenames\n",
        "    if not test_filenames or i >= len(test_filenames):\n",
        "        continue\n",
        "        \n",
        "    # Extract filename\n",
        "    filename = test_filenames[i]\n",
        "    \n",
        "    # Extract study_id from filename\n",
        "    import re\n",
        "    study_id_match = re.search(r's(\\d+)', filename)\n",
        "    if not study_id_match:\n",
        "        continue\n",
        "        \n",
        "    study_id = study_id_match.group(1)\n",
        "    \n",
        "    # Find corresponding subject_id in labels_df\n",
        "    match = labels_df[labels_df['study_id'] == study_id]\n",
        "    if len(match) == 0:\n",
        "        continue\n",
        "        \n",
        "    subject_id = str(match.iloc[0]['subject_id'])\n",
        "    \n",
        "    # Create an ordered classification result\n",
        "    ordered_result = []\n",
        "    \n",
        "    # Add pathologies in the specified order\n",
        "    for pathology in ordered_pathologies:\n",
        "        if pathology in report:\n",
        "            prob = report[pathology]\n",
        "            prob_str = f\"{prob:.4f}\"\n",
        "            ordered_result.append((pathology, prob_str))\n",
        "    \n",
        "    # Add to results DataFrame\n",
        "    new_row = {\n",
        "        'subject_id': subject_id,\n",
        "        'study_id': study_id,\n",
        "        'classification_result': str(ordered_result)\n",
        "    }\n",
        "    results_df = results_df.append(new_row, ignore_index=True)\n"
      ]
    },
    {
      "cell_type": "code",
      "execution_count": 116,
      "metadata": {},
      "outputs": [
        {
          "name": "stdout",
          "output_type": "stream",
          "text": [
            "  subject_id  study_id                              classification_result\n",
            "0   19061282  50010466  [('Atelectasis', '0.2659'), ('Cardiomegaly', '...\n",
            "1   18835687  50014127  [('Atelectasis', '0.3400'), ('Cardiomegaly', '...\n",
            "2   15131736  50016102  [('Atelectasis', '0.5137'), ('Cardiomegaly', '...\n",
            "3   13881772  50019396  [('Atelectasis', '0.7200'), ('Cardiomegaly', '...\n",
            "4   15758946  50020371  [('Atelectasis', '0.3045'), ('Cardiomegaly', '...\n"
          ]
        }
      ],
      "source": [
        "results_df.to_csv('predictions.csv', index=False)\n",
        "\n",
        "# Print first few rows\n",
        "print(results_df.head())"
      ]
    }
  ],
  "metadata": {
    "accelerator": "GPU",
    "colab": {
      "collapsed_sections": [],
      "name": "Copy of train.ipynb",
      "provenance": [],
      "toc_visible": true
    },
    "coursera": {
      "schema_names": [
        "AI4MC1-1"
      ]
    },
    "kernelspec": {
      "display_name": "chest_env",
      "language": "python",
      "name": "python3"
    },
    "language_info": {
      "codemirror_mode": {
        "name": "ipython",
        "version": 3
      },
      "file_extension": ".py",
      "mimetype": "text/x-python",
      "name": "python",
      "nbconvert_exporter": "python",
      "pygments_lexer": "ipython3",
      "version": "3.6.13"
    },
    "toc": {
      "base_numbering": 1,
      "nav_menu": {},
      "number_sections": true,
      "sideBar": true,
      "skip_h1_title": false,
      "title_cell": "Table of Contents",
      "title_sidebar": "Contents",
      "toc_cell": false,
      "toc_position": {},
      "toc_section_display": true,
      "toc_window_display": false
    }
  },
  "nbformat": 4,
  "nbformat_minor": 0
}
